{
  "nbformat": 4,
  "nbformat_minor": 0,
  "metadata": {
    "colab": {
      "provenance": []
    },
    "kernelspec": {
      "name": "python3",
      "display_name": "Python 3"
    },
    "language_info": {
      "name": "python"
    }
  },
  "cells": [
    {
      "cell_type": "code",
      "source": [
        "import numpy as np"
      ],
      "metadata": {
        "id": "rBKHaZhCFKy9"
      },
      "execution_count": null,
      "outputs": []
    },
    {
      "cell_type": "code",
      "execution_count": null,
      "metadata": {
        "colab": {
          "base_uri": "https://localhost:8080/"
        },
        "id": "mVo6cbD59Jm2",
        "outputId": "fbb64602-d494-4bfd-b696-41bb6cd44e94"
      },
      "outputs": [
        {
          "output_type": "execute_result",
          "data": {
            "text/plain": [
              "array([[ 0,  1],\n",
              "       [ 2,  3],\n",
              "       [ 4,  5],\n",
              "       [ 6,  7],\n",
              "       [ 8,  9],\n",
              "       [10, 11],\n",
              "       [12, 13],\n",
              "       [14, 15],\n",
              "       [16, 17],\n",
              "       [18, 19],\n",
              "       [20, 21],\n",
              "       [22, 23],\n",
              "       [24, 25],\n",
              "       [26, 27],\n",
              "       [28, 29]])"
            ]
          },
          "metadata": {},
          "execution_count": 3
        }
      ],
      "source": [
        "# 1) 0-29 arası(29 dahil, toplam 30 tam sayı) tam sayılardan oluşan bir boyutlu bir array oluşturun ardından bu array'in shape'ini (15,2) şeklinde güncelleyip 2 boyutlu hale getirin.\n",
        "arr=np.arange(30)\n",
        "arr.reshape(15,2)"
      ]
    },
    {
      "cell_type": "code",
      "source": [
        "# 2) 60 adet rastgele tam sayı verilerinden oluşan bir boyutlu bir array oluşturun. Devamında bu array'i istediğiniz shapelerde 3 boyutlu hale getirin ve son durumda oluşan array'in boyutunu ve shape'ini kontrol edin.\n",
        "arr=np.random.randint(0,100,60)\n",
        "arr=arr.reshape(3,5,-1)\n",
        "print(arr.ndim)\n",
        "print(arr.shape)"
      ],
      "metadata": {
        "colab": {
          "base_uri": "https://localhost:8080/"
        },
        "id": "5FzDiMXnFQVk",
        "outputId": "aa963b04-dd98-48d4-ed9a-06db197326b9"
      },
      "execution_count": null,
      "outputs": [
        {
          "output_type": "stream",
          "name": "stdout",
          "text": [
            "3\n",
            "(3, 5, 4)\n"
          ]
        }
      ]
    },
    {
      "cell_type": "code",
      "source": [
        "# 3) 20 elemanlı ve sadece rakamlardan oluşan iki boyutlu bir array oluşturun. Ardından bu array'i düzleştirin ve tek boyutlu hale getirin ve son durumda oluşan array'in boyutunu ve shape'ini kontrol edin.\n",
        "arr=np.random.randint(0,10, size=(4,5))\n",
        "arr=arr.reshape(-1)\n",
        "print(arr.ndim)\n",
        "print(arr.shape)"
      ],
      "metadata": {
        "colab": {
          "base_uri": "https://localhost:8080/"
        },
        "id": "DIP2tP4BGLlL",
        "outputId": "764543c2-e05c-42b6-d45b-ba9256724210"
      },
      "execution_count": null,
      "outputs": [
        {
          "output_type": "stream",
          "name": "stdout",
          "text": [
            "1\n",
            "(20,)\n"
          ]
        }
      ]
    },
    {
      "cell_type": "code",
      "source": [
        "# 4) İstediğiniz herhangi elemanlardan oluşan 2 Boyutlu bir array oluşturun. Oluşturduğunuz bu 2 boyutlu array'in içindeki bütün elemanları hem yavaş yol olan for döngüsüyle hem de daha hızlı yol olan uygun NumPy metoduyla tek tek dönerek ekrana yazdırın.\n",
        "arr=np.random.randint(10, size=(2,3))\n",
        "print(arr)\n",
        "\n",
        "for i in arr:\n",
        "  for j in i:\n",
        "    print(j)\n",
        "print(\" \")\n",
        "for i in np.nditer(arr): print(i)"
      ],
      "metadata": {
        "colab": {
          "base_uri": "https://localhost:8080/"
        },
        "id": "gQu0A9BxHFKm",
        "outputId": "12a6ad20-e35f-42df-eddf-01ec5b427cd1"
      },
      "execution_count": null,
      "outputs": [
        {
          "output_type": "stream",
          "name": "stdout",
          "text": [
            "[[8 5 6]\n",
            " [3 3 2]]\n",
            "8\n",
            "5\n",
            "6\n",
            "3\n",
            "3\n",
            "2\n",
            " \n",
            "8\n",
            "5\n",
            "6\n",
            "3\n",
            "3\n",
            "2\n"
          ]
        }
      ]
    },
    {
      "cell_type": "code",
      "source": [
        "''' 5) 5,10,15,20,25,30 değerlerinden oluşan bir boyutlu bir array ve\n",
        "   1,2,3,4,5,6 değerlerinden oluşan başka bir boyutlu bir array oluşturun.\n",
        "   Bu arraylerinin elemanlarına kendi aralarında 4 işlem uygulayın. İki arrayinde 1.indexindekiler toplansın/çıkartılsın/çarpılsın/bölünsün gibi.'''\n",
        "  \n",
        "arr_1=np.array([5,10,15,20,25,30])\n",
        "arr_2=np.array([1,2,3,4,5,6])\n",
        "\n",
        "print(arr_1 + arr_2)\n",
        "print(arr_1 - arr_2)\n",
        "print(arr_1 * arr_2)\n",
        "print(arr_1 / arr_2)"
      ],
      "metadata": {
        "colab": {
          "base_uri": "https://localhost:8080/"
        },
        "id": "u-J0n-8wJ6Ke",
        "outputId": "eec8a69d-6dec-4156-e5ad-9e3ae12a68d2"
      },
      "execution_count": null,
      "outputs": [
        {
          "output_type": "stream",
          "name": "stdout",
          "text": [
            "[ 6 12 18 24 30 36]\n",
            "[ 4  8 12 16 20 24]\n",
            "[  5  20  45  80 125 180]\n",
            "[5. 5. 5. 5. 5. 5.]\n"
          ]
        }
      ]
    },
    {
      "cell_type": "code",
      "source": [
        "#6) 0-100 arası rastgele 10 tam sayıdan oluşan bir array oluşturun ve oluşturulan arrayin sum/mean/max/var/std değerlerini inceleyin.\n",
        "arr=np.random.randint(0,100,10)\n",
        "print(arr)\n",
        "print(arr.sum())\n",
        "print(arr.mean())\n",
        "print(arr.max())\n",
        "print(arr.var())\n",
        "print(arr.std())"
      ],
      "metadata": {
        "colab": {
          "base_uri": "https://localhost:8080/"
        },
        "id": "6oFufu6jMX2H",
        "outputId": "edb8b02c-cf02-4e0c-e6ff-04f84dce7135"
      },
      "execution_count": null,
      "outputs": [
        {
          "output_type": "stream",
          "name": "stdout",
          "text": [
            "[ 3 84 76 25 74 96 52 17 75 72]\n",
            "574\n",
            "57.4\n",
            "96\n",
            "901.24\n",
            "30.020659553047796\n"
          ]
        }
      ]
    },
    {
      "cell_type": "code",
      "source": [
        "# 7) 0-20 arası(20 dahil değil) tam sayılardan oluşan ve 500-530(530 dahil) arası tam sayılardan oluşan 2 array oluşturun. Ardından bu iki array'i concatenate ederek ekrana yazdırın.\n",
        "arr_1=np.arange(0,20)\n",
        "arr_2=np.arange(500,531)\n",
        "np.concatenate([arr_1,arr_2])"
      ],
      "metadata": {
        "colab": {
          "base_uri": "https://localhost:8080/"
        },
        "id": "NDsHrRkKMmvo",
        "outputId": "0486a46f-43bd-4f2c-8856-573387a6b8fe"
      },
      "execution_count": null,
      "outputs": [
        {
          "output_type": "execute_result",
          "data": {
            "text/plain": [
              "array([  0,   1,   2,   3,   4,   5,   6,   7,   8,   9,  10,  11,  12,\n",
              "        13,  14,  15,  16,  17,  18,  19, 500, 501, 502, 503, 504, 505,\n",
              "       506, 507, 508, 509, 510, 511, 512, 513, 514, 515, 516, 517, 518,\n",
              "       519, 520, 521, 522, 523, 524, 525, 526, 527, 528, 529, 530])"
            ]
          },
          "metadata": {},
          "execution_count": 35
        }
      ]
    },
    {
      "cell_type": "code",
      "source": [
        "# 8) 15-50(50 dahil) arası tam sayılardan oluşan bir array oluşturun. Daha sonra 10-100 arası(100 dahil) tam sayılardan oluşan 2.bir array oluşturun. Bu 2 arrayi concatanate ederek 3.bir array oluşturun ve bu array'in 25.index ile 50.index'i(50 dahil) arasındaki değerlerini 888 yapın.\n",
        "arr_1=np.arange(0,51)\n",
        "arr_2=np.arange(10,101)\n",
        "arr=np.concatenate([arr_1,arr_2])\n",
        "arr[25:51]=888\n",
        "arr"
      ],
      "metadata": {
        "colab": {
          "base_uri": "https://localhost:8080/"
        },
        "id": "BP-kz70XNUcD",
        "outputId": "ac5210a8-d8a5-4650-9698-a61847f38791"
      },
      "execution_count": null,
      "outputs": [
        {
          "output_type": "execute_result",
          "data": {
            "text/plain": [
              "array([  0,   1,   2,   3,   4,   5,   6,   7,   8,   9,  10,  11,  12,\n",
              "        13,  14,  15,  16,  17,  18,  19,  20,  21,  22,  23,  24, 888,\n",
              "       888, 888, 888, 888, 888, 888, 888, 888, 888, 888, 888, 888, 888,\n",
              "       888, 888, 888, 888, 888, 888, 888, 888, 888, 888, 888, 888,  10,\n",
              "        11,  12,  13,  14,  15,  16,  17,  18,  19,  20,  21,  22,  23,\n",
              "        24,  25,  26,  27,  28,  29,  30,  31,  32,  33,  34,  35,  36,\n",
              "        37,  38,  39,  40,  41,  42,  43,  44,  45,  46,  47,  48,  49,\n",
              "        50,  51,  52,  53,  54,  55,  56,  57,  58,  59,  60,  61,  62,\n",
              "        63,  64,  65,  66,  67,  68,  69,  70,  71,  72,  73,  74,  75,\n",
              "        76,  77,  78,  79,  80,  81,  82,  83,  84,  85,  86,  87,  88,\n",
              "        89,  90,  91,  92,  93,  94,  95,  96,  97,  98,  99, 100])"
            ]
          },
          "metadata": {},
          "execution_count": 41
        }
      ]
    },
    {
      "cell_type": "code",
      "source": [
        "# 9) 0-40(40 dahil değil) arası değerlerden oluşan (8,5) shape'inde 2 boyutlu bir array ve  320-360(360 dahil değil) değerlerinden oluşan (8,5) shape'inde 2 boyutlubaşka bir array oluşturun. Devamında bu iki array'i hem axis = 0'da hem de axis = 1'de concatenate ederek farkı karşılaştırın.\n",
        "arr_1=np.arange(0,40).reshape(8,5)\n",
        "arr_2=np.arange(320,360).reshape(8,5)\n",
        "arr1=np.concatenate([arr_1,arr_2],axis=0)\n",
        "arr2=np.concatenate([arr_1,arr_2],axis=1)\n",
        "print(arr1)\n",
        "print(arr2)"
      ],
      "metadata": {
        "colab": {
          "base_uri": "https://localhost:8080/"
        },
        "id": "zG4v1B6ZOBsm",
        "outputId": "c57d0889-3749-49c2-fc30-919f6b2a3665"
      },
      "execution_count": null,
      "outputs": [
        {
          "output_type": "stream",
          "name": "stdout",
          "text": [
            "[[  0   1   2   3   4]\n",
            " [  5   6   7   8   9]\n",
            " [ 10  11  12  13  14]\n",
            " [ 15  16  17  18  19]\n",
            " [ 20  21  22  23  24]\n",
            " [ 25  26  27  28  29]\n",
            " [ 30  31  32  33  34]\n",
            " [ 35  36  37  38  39]\n",
            " [320 321 322 323 324]\n",
            " [325 326 327 328 329]\n",
            " [330 331 332 333 334]\n",
            " [335 336 337 338 339]\n",
            " [340 341 342 343 344]\n",
            " [345 346 347 348 349]\n",
            " [350 351 352 353 354]\n",
            " [355 356 357 358 359]]\n",
            "[[  0   1   2   3   4 320 321 322 323 324]\n",
            " [  5   6   7   8   9 325 326 327 328 329]\n",
            " [ 10  11  12  13  14 330 331 332 333 334]\n",
            " [ 15  16  17  18  19 335 336 337 338 339]\n",
            " [ 20  21  22  23  24 340 341 342 343 344]\n",
            " [ 25  26  27  28  29 345 346 347 348 349]\n",
            " [ 30  31  32  33  34 350 351 352 353 354]\n",
            " [ 35  36  37  38  39 355 356 357 358 359]]\n"
          ]
        }
      ]
    },
    {
      "cell_type": "code",
      "source": [
        "# 10) 9.Soruda oluşturduğunuz 2 array'i axis = 2'de concatenate etmeye çalışın. Ardından axis = 2'de stacklemeye(yığınlamaya) çalışın. İkisi arasındaki farkı karşılaştırın.\n",
        "arr3=np.concatenate([arr_1,arr_2], axis=2)\n",
        "arr4=np.stack([arr_1,arr_2] , axis = 2)\n",
        "print(arr3)\n",
        "print(arr4)"
      ],
      "metadata": {
        "colab": {
          "base_uri": "https://localhost:8080/",
          "height": 296
        },
        "id": "WQdP9bwKPC1N",
        "outputId": "61f76612-27ff-4c54-de94-9cb5bb131648"
      },
      "execution_count": null,
      "outputs": [
        {
          "output_type": "error",
          "ename": "AxisError",
          "evalue": "ignored",
          "traceback": [
            "\u001b[0;31m---------------------------------------------------------------------------\u001b[0m",
            "\u001b[0;31mAxisError\u001b[0m                                 Traceback (most recent call last)",
            "\u001b[0;32m<ipython-input-53-f9fbda703522>\u001b[0m in \u001b[0;36m<module>\u001b[0;34m\u001b[0m\n\u001b[1;32m      1\u001b[0m \u001b[0;31m# 10) 9.Soruda oluşturduğunuz 2 array'i axis = 2'de concatenate etmeye çalışın. Ardından axis = 2'de stacklemeye(yığınlamaya) çalışın. İkisi arasındaki farkı karşılaştırın.\u001b[0m\u001b[0;34m\u001b[0m\u001b[0;34m\u001b[0m\u001b[0m\n\u001b[0;32m----> 2\u001b[0;31m \u001b[0marr3\u001b[0m\u001b[0;34m=\u001b[0m\u001b[0mnp\u001b[0m\u001b[0;34m.\u001b[0m\u001b[0mconcatenate\u001b[0m\u001b[0;34m(\u001b[0m\u001b[0;34m[\u001b[0m\u001b[0marr_1\u001b[0m\u001b[0;34m,\u001b[0m\u001b[0marr_2\u001b[0m\u001b[0;34m]\u001b[0m\u001b[0;34m,\u001b[0m \u001b[0maxis\u001b[0m\u001b[0;34m=\u001b[0m\u001b[0;36m2\u001b[0m\u001b[0;34m)\u001b[0m\u001b[0;34m\u001b[0m\u001b[0;34m\u001b[0m\u001b[0m\n\u001b[0m\u001b[1;32m      3\u001b[0m \u001b[0marr4\u001b[0m\u001b[0;34m=\u001b[0m\u001b[0mnp\u001b[0m\u001b[0;34m.\u001b[0m\u001b[0mstack\u001b[0m\u001b[0;34m(\u001b[0m\u001b[0;34m[\u001b[0m\u001b[0marr_1\u001b[0m\u001b[0;34m,\u001b[0m\u001b[0marr_2\u001b[0m\u001b[0;34m]\u001b[0m \u001b[0;34m,\u001b[0m \u001b[0maxis\u001b[0m \u001b[0;34m=\u001b[0m \u001b[0;36m2\u001b[0m\u001b[0;34m)\u001b[0m\u001b[0;34m\u001b[0m\u001b[0;34m\u001b[0m\u001b[0m\n\u001b[1;32m      4\u001b[0m \u001b[0mprint\u001b[0m\u001b[0;34m(\u001b[0m\u001b[0marr3\u001b[0m\u001b[0;34m)\u001b[0m\u001b[0;34m\u001b[0m\u001b[0;34m\u001b[0m\u001b[0m\n\u001b[1;32m      5\u001b[0m \u001b[0mprint\u001b[0m\u001b[0;34m(\u001b[0m\u001b[0marr4\u001b[0m\u001b[0;34m)\u001b[0m\u001b[0;34m\u001b[0m\u001b[0;34m\u001b[0m\u001b[0m\n",
            "\u001b[0;32m/usr/local/lib/python3.9/dist-packages/numpy/core/overrides.py\u001b[0m in \u001b[0;36mconcatenate\u001b[0;34m(*args, **kwargs)\u001b[0m\n",
            "\u001b[0;31mAxisError\u001b[0m: axis 2 is out of bounds for array of dimension 2"
          ]
        }
      ]
    },
    {
      "cell_type": "code",
      "source": [
        "# 11) [1, 20, 25, 4, 4, 5, 4, 4, 1, 6, 9, 12, 1, 5] değerlerinden oluşan bir boyutlu bir array oluşturun. Devamında bu array'in içinde değeri 5'e eşit olan değerlerin indexleri bulun.\n",
        "arr=np.array([1, 20, 25, 4, 4, 5, 4, 4, 1, 6, 9, 12, 1, 5])\n",
        "for i in range(len(arr)):\n",
        "    if arr[i] == 5:\n",
        "      print(i)\n"
      ],
      "metadata": {
        "id": "skKXkOhbRXXY",
        "colab": {
          "base_uri": "https://localhost:8080/"
        },
        "outputId": "e1653c33-8233-4b1d-bbe2-6ea155d8e56c"
      },
      "execution_count": 57,
      "outputs": [
        {
          "output_type": "stream",
          "name": "stdout",
          "text": [
            "5\n",
            "13\n"
          ]
        }
      ]
    },
    {
      "cell_type": "code",
      "source": [
        "# 12) Yukarıda oluşturduğunuz array içinde değeri çift olan değerlerin indexlerini bulun.\n",
        "for i in range(len(arr)):\n",
        "    if arr[i] % 5:\n",
        "      print(i)"
      ],
      "metadata": {
        "id": "us4SeuCEXe8C",
        "colab": {
          "base_uri": "https://localhost:8080/"
        },
        "outputId": "265df94e-0363-4768-8112-5ea8419d03e5"
      },
      "execution_count": 58,
      "outputs": [
        {
          "output_type": "stream",
          "name": "stdout",
          "text": [
            "0\n",
            "3\n",
            "4\n",
            "6\n",
            "7\n",
            "8\n",
            "9\n",
            "10\n",
            "11\n",
            "12\n"
          ]
        }
      ]
    },
    {
      "cell_type": "code",
      "source": [
        "# 13) Yukarıda oluşturduğunuz array içinde değeri 4'den büyük olan değerlerin indexlerini bulun.\n",
        "for i in range(len(arr)):\n",
        "    if arr[i]>4:\n",
        "      print(i)"
      ],
      "metadata": {
        "colab": {
          "base_uri": "https://localhost:8080/"
        },
        "id": "fOZqaVjXZnVy",
        "outputId": "4f8890d1-6619-4ade-c5d6-0651b18f7a20"
      },
      "execution_count": 59,
      "outputs": [
        {
          "output_type": "stream",
          "name": "stdout",
          "text": [
            "1\n",
            "2\n",
            "5\n",
            "9\n",
            "10\n",
            "11\n",
            "13\n"
          ]
        }
      ]
    },
    {
      "cell_type": "code",
      "source": [
        "# 14) Yukarıda oluşturduğunuz array içinde değeri 5'e tam bölünen değerlerin indexlerini bulun.\n",
        "for i in range(len(arr)):\n",
        "    if arr[i]//5==0:\n",
        "      print(i)"
      ],
      "metadata": {
        "colab": {
          "base_uri": "https://localhost:8080/"
        },
        "id": "zPZCdVE8Zxi2",
        "outputId": "d5f832cd-2291-4e46-82e1-c94ad83b7edc"
      },
      "execution_count": 60,
      "outputs": [
        {
          "output_type": "stream",
          "name": "stdout",
          "text": [
            "0\n",
            "3\n",
            "4\n",
            "6\n",
            "7\n",
            "8\n",
            "12\n"
          ]
        }
      ]
    },
    {
      "cell_type": "code",
      "source": [
        "# 15) 85-100(100 dahil) arasından rastgele 1 tam sayı seçin\n",
        "np.random.randint(85,101,1)"
      ],
      "metadata": {
        "colab": {
          "base_uri": "https://localhost:8080/"
        },
        "id": "B0BYIKk0Z9MJ",
        "outputId": "ad322de0-3dd7-4d35-d811-a28f86c5165a"
      },
      "execution_count": 61,
      "outputs": [
        {
          "output_type": "execute_result",
          "data": {
            "text/plain": [
              "array([87])"
            ]
          },
          "metadata": {},
          "execution_count": 61
        }
      ]
    },
    {
      "cell_type": "code",
      "source": [
        "# 16) İki basamaklı tam sayılar arasından rastgele sayılar seçerek (3,3) shape'inde bir array oluşturun.\n",
        "arr=np.random.randint(10,100,size=(3,3))\n",
        "arr"
      ],
      "metadata": {
        "colab": {
          "base_uri": "https://localhost:8080/"
        },
        "id": "5pbxPgxLaHx1",
        "outputId": "0d8b2a39-d6cc-4a1c-8e9c-d58455fa4091"
      },
      "execution_count": 63,
      "outputs": [
        {
          "output_type": "execute_result",
          "data": {
            "text/plain": [
              "array([[29, 75, 97],\n",
              "       [59, 76, 21],\n",
              "       [12, 96, 56]])"
            ]
          },
          "metadata": {},
          "execution_count": 63
        }
      ]
    },
    {
      "cell_type": "code",
      "source": [
        "# 17) 35-60 arasındaki tam sayılardan bir array oluşturun, ardından bu array içinden rastgele 1 tam sayı seçin.\n",
        "arr=np.arange(35,60)\n",
        "random_num = np.random.choice(arr)\n",
        "random_num"
      ],
      "metadata": {
        "colab": {
          "base_uri": "https://localhost:8080/"
        },
        "id": "Fyjt3Q-OaVOO",
        "outputId": "7352b853-a6ec-43b1-e283-d08b83c1864c"
      },
      "execution_count": 67,
      "outputs": [
        {
          "output_type": "execute_result",
          "data": {
            "text/plain": [
              "50"
            ]
          },
          "metadata": {},
          "execution_count": 67
        }
      ]
    },
    {
      "cell_type": "code",
      "source": [
        "# 18) Sadece [3, 8, 10, 53] değerlerinden oluşan (2,5) shape'inde 2 boyutlu bir array oluşturun.\n",
        "my_list = [3, 8, 10, 53]\n",
        "my_array = np.array([my_list, my_list])\n",
        "print(my_array)"
      ],
      "metadata": {
        "colab": {
          "base_uri": "https://localhost:8080/"
        },
        "id": "_UrLBd0ddK0m",
        "outputId": "6c674aa7-60b3-4640-ce09-87d1fd5680fd"
      },
      "execution_count": 72,
      "outputs": [
        {
          "output_type": "stream",
          "name": "stdout",
          "text": [
            "[[ 3  8 10 53]\n",
            " [ 3  8 10 53]]\n"
          ]
        }
      ]
    }
  ]
}