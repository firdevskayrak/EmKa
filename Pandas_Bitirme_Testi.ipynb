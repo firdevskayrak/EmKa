{
  "cells": [
    {
      "cell_type": "markdown",
      "metadata": {
        "id": "LMDwseDGO1xU"
      },
      "source": [
        "# Pandas Bitirme Projesi\n",
        "\n",
        "# The Data\n",
        "\n",
        "Bu veri seti, bir şehir oteli ve bir tatil oteli için rezervasyon bilgilerini içerir ve rezervasyonun ne zaman yapıldığı, kalış süresi, yetişkin, çocuk ve / veya bebek sayısı ve diğer şeylerin yanı sıra mevcut park yerlerinin sayısı gibi bilgileri içerir.\n",
        "\n",
        "Datadaki tüm kişisel bilgiler değiştirilmiştir.\n",
        "\n",
        "----------------------------\n",
        "\n",
        "#### NOTE: Veri seti tamamen gerçek bir hotel'e aittir. Names, Emails, Phone Numbers, and Credit Card numbers değiştirilmiştir ve gerçek değildir. \n",
        "\n",
        "## <div style=\"text-align: center\">Column Anlamları</div>"
      ]
    },
    {
      "cell_type": "markdown",
      "metadata": {
        "id": "bKuw_6FtO1xX"
      },
      "source": [
        "<table><thead><tr class=\"rowsep-1\"><th scope=\"col\"><strong>Variable</strong></th><th scope=\"col\"><strong>Type</strong></th><th scope=\"col\"><strong>Description</strong></th><th scope=\"col\"><strong>Source/Engineering</strong></th></tr></thead><tbody><tr><th scope=\"row\"><em>ADR</em></th><td>Numeric</td><td>Average Daily Rate as defined by <a name=\"bbib5\" href=\"#bib5\" class=\"workspace-trigger\">[5]</a></td><td>BO, BL and TR / Calculated by dividing the sum of all lodging transactions by the total number of staying nights</td></tr><tr><th scope=\"row\"><em>Adults</em></th><td>Integer</td><td>Number of adults</td><td>BO and BL</td></tr><tr><th scope=\"row\"><em>Agent</em></th><td>Categorical</td><td>ID of the travel agency that made the booking<a name=\"btbl1fna\" href=\"#tbl1fna\" class=\"workspace-trigger\"><sup>a</sup></a></td><td>BO and BL</td></tr><tr><th scope=\"row\"><em>ArrivalDateDayOfMonth</em></th><td>Integer</td><td>Day of the month of the arrival date</td><td>BO and BL</td></tr><tr><th scope=\"row\"><em>ArrivalDateMonth</em></th><td>Categorical</td><td>Month of arrival date with 12 categories: “January” to “December”</td><td>BO and BL</td></tr><tr><th scope=\"row\"><em>ArrivalDateWeekNumber</em></th><td>Integer</td><td>Week number of the arrival date</td><td>BO and BL</td></tr><tr><th scope=\"row\"><em>ArrivalDateYear</em></th><td>Integer</td><td>Year of arrival date</td><td>BO and BL</td></tr><tr><th scope=\"row\"><em>AssignedRoomType</em></th><td>Categorical</td><td>Code for the type of room assigned to the booking. Sometimes the assigned room type differs from the reserved room type due to hotel operation reasons (e.g. overbooking) or by customer request. Code is presented instead of designation for anonymity reasons</td><td>BO and BL</td></tr><tr><th scope=\"row\"><em>Babies</em></th><td>Integer</td><td>Number of babies</td><td>BO and BL</td></tr><tr><th scope=\"row\"><em>BookingChanges</em></th><td>Integer</td><td>Number of changes/amendments made to the booking from the moment the booking was entered on the PMS until the moment of check-in or cancellation</td><td>BO and BL/Calculated by adding the number of unique iterations that change some of the booking attributes, namely: persons, arrival date, nights, reserved room type or meal</td></tr><tr><th scope=\"row\"><em>Children</em></th><td>Integer</td><td>Number of children</td><td>BO and BL/Sum of both payable and non-payable children</td></tr><tr><th scope=\"row\"><em>Company</em></th><td>Categorical</td><td>ID of the company/entity that made the booking or responsible for paying the booking. ID is presented instead of designation for anonymity reasons</td><td>BO and BL.</td></tr><tr><th scope=\"row\"><em>Country</em></th><td>Categorical</td><td>Country of origin. Categories are represented in the ISO 3155–3:2013 format <a name=\"bbib6\" href=\"#bib6\" class=\"workspace-trigger\">[6]</a></td><td>BO, BL and NT</td></tr><tr><th scope=\"row\"><br></th><td><br></td><td><br></td><td><br></td></tr><tr><th scope=\"row\" rowspan=\"5\"><em>CustomerType</em></th><td rowspan=\"5\">Categorical</td><td>Type of booking, assuming one of four categories:</td><td rowspan=\"5\">BO and BL</td></tr><tr><td>Contract - when the booking has an allotment or other type of contract associated to it;</td></tr><tr><td>Group – when the booking is associated to a group;</td></tr><tr><td>Transient – when the booking is not part of a group or contract, and is not associated to other transient booking;</td></tr><tr><td>Transient-party – when the booking is transient, but is associated to at least other transient booking</td></tr><tr><th scope=\"row\"><em>DaysInWaitingList</em></th><td>Integer</td><td>Number of days the booking was in the waiting list before it was confirmed to the customer</td><td>BO/Calculated by subtracting the date the booking was confirmed to the customer from the date the booking entered on the PMS</td></tr><tr><th scope=\"row\"><br></th><td><br></td><td><br></td><td><br></td></tr><tr><th scope=\"row\" rowspan=\"7\"><em>DepositType</em></th><td rowspan=\"7\">Categorical</td><td>Indication on if the customer made a deposit to guarantee the booking. This variable can assume three categories:</td><td rowspan=\"2\">BO and TR/Value calculated based on the payments identified for the booking in the transaction (TR) table before the booking׳s arrival or cancellation date.</td></tr><tr><td rowspan=\"3\">No Deposit – no deposit was made;</td></tr><tr><td>In case no payments were found the value is “No Deposit”.</td></tr><tr><td rowspan=\"2\">If the payment was equal or exceeded the total cost of stay, the value is set as “Non Refund”.</td></tr><tr><td rowspan=\"2\">Non Refund – a deposit was made in the value of the total stay cost;</td></tr><tr><td rowspan=\"2\">Otherwise the value is set as “Refundable”</td></tr><tr><td>Refundable – a deposit was made with a value under the total cost of stay.</td></tr><tr><th scope=\"row\"><em>DistributionChannel</em></th><td>Categorical</td><td>Booking distribution channel. The term “TA” means “Travel Agents” and “TO” means “Tour Operators”</td><td>BO, BL and DC</td></tr><tr><th scope=\"row\"><em>IsCanceled</em></th><td>Categorical</td><td>Value indicating if the booking was canceled (1) or not (0)</td><td>BO</td></tr><tr><th scope=\"row\"><em>IsRepeatedGuest</em></th><td>Categorical</td><td>Value indicating if the booking name was from a repeated guest (1) or not (0)</td><td>BO, BL and C/ Variable created by verifying if a profile was associated with the booking customer. If so, and if the customer profile creation date was prior to the creation date for the booking on the PMS database it was assumed the booking was from a repeated guest</td></tr><tr><th scope=\"row\"><em>LeadTime</em></th><td>Integer</td><td>Number of days that elapsed between the entering date of the booking into the PMS and the arrival date</td><td>BO and BL/ Subtraction of the entering date from the arrival date</td></tr><tr><th scope=\"row\"><em>MarketSegment</em></th><td>Categorical</td><td>Market segment designation. In categories, the term “TA” means “Travel Agents” and “TO” means “Tour Operators”</td><td>BO, BL and MS</td></tr><tr><th scope=\"row\"><br></th><td><br></td><td><br></td><td><br></td></tr><tr><th scope=\"row\" rowspan=\"5\"><em>Meal</em></th><td rowspan=\"5\">Categorical</td><td>Type of meal booked. Categories are presented in standard hospitality meal packages:</td><td rowspan=\"5\">BO, BL and ML</td></tr><tr><td>Undefined/SC – no meal package;</td></tr><tr><td>BB – Bed &amp; Breakfast;</td></tr><tr><td>HB – Half board (breakfast and one other meal – usually dinner);</td></tr><tr><td>FB – Full board (breakfast, lunch and dinner)</td></tr><tr><th scope=\"row\"><em>PreviousBookingsNotCanceled</em></th><td>Integer</td><td>Number of previous bookings not cancelled by the customer prior to the current booking</td><td>BO and BL / In case there was no customer profile associated with the booking, the value is set to 0. Otherwise, the value is the number of bookings with the same customer profile created before the current booking and not canceled.</td></tr><tr><th scope=\"row\"><em>PreviousCancellations</em></th><td>Integer</td><td>Number of previous bookings that were cancelled by the customer prior to the current booking</td><td>BO and BL/ In case there was no customer profile associated with the booking, the value is set to 0. Otherwise, the value is the number of bookings with the same customer profile created before the current booking and canceled.</td></tr><tr><th scope=\"row\"><em>RequiredCardParkingSpaces</em></th><td>Integer</td><td>Number of car parking spaces required by the customer</td><td>BO and BL</td></tr><tr><th scope=\"row\"><br></th><td><br></td><td><br></td><td><br></td></tr><tr><th scope=\"row\" rowspan=\"4\"><em>ReservationStatus</em></th><td rowspan=\"4\">Categorical</td><td>Reservation last status, assuming one of three categories:</td><td rowspan=\"4\">BO</td></tr><tr><td>Canceled – booking was canceled by the customer;</td></tr><tr><td>Check-Out – customer has checked in but already departed;</td></tr><tr><td>No-Show – customer did not check-in and did inform the hotel of the reason why</td></tr><tr><th scope=\"row\"><em>ReservationStatusDate</em></th><td>Date</td><td>Date at which the last status was set. This variable can be used in conjunction with the <em>ReservationStatus</em> to understand when was the booking canceled or when did the customer checked-out of the hotel</td><td>BO</td></tr><tr><th scope=\"row\"><em>ReservedRoomType</em></th><td>Categorical</td><td>Code of room type reserved. Code is presented instead of designation for anonymity reasons</td><td>BO and BL</td></tr><tr><th scope=\"row\"><em>StaysInWeekendNights</em></th><td>Integer</td><td>Number of weekend nights (Saturday or Sunday) the guest stayed or booked to stay at the hotel</td><td>BO and BL/ Calculated by counting the number of weekend nights from the total number of nights</td></tr><tr><th scope=\"row\"><em>StaysInWeekNights</em></th><td>Integer</td><td>Number of week nights (Monday to Friday) the guest stayed or booked to stay at the hotel</td><td>BO and BL/Calculated by counting the number of week nights from the total number of nights</td></tr><tr><th scope=\"row\"><em>TotalOfSpecialRequests</em></th><td>Integer</td><td>Number of special requests made by the customer (e.g. twin bed or high floor)</td><td>BO and BL/Sum of all special requests</td></tr></tbody></table>"
      ]
    },
    {
      "cell_type": "markdown",
      "metadata": {
        "id": "tMIqYR0UO1xa"
      },
      "source": [
        "-----------"
      ]
    },
    {
      "cell_type": "markdown",
      "metadata": {
        "id": "ycKtku8FO1xb"
      },
      "source": [
        "# Görev\n",
        "\n",
        "** Aşağıda belirtilen Taskleri yapmaya çalışın. Beklenen çıktının üstündeki kod hücresini çalıştırmamaya dikkat edin. Aksi taktirde beklenen çıktının görüntüsünü kaybedebilirsiniz. Soruları bir satır kod ile çözmek için elinizden geleni yapın (her soru tek bir satırda çözülemez, ancak çoğu çözülebilir !) \n",
        "\n",
        "NOTE: Pek çok sorunun birden fazla methodla farklı çözüm yolları mevcut**\n",
        "\n",
        "-----\n",
        "### TASK: Aşağıdaki kodları çalıştırarak \"hotel_booking_data.csv\" dosyasını okuyun. Dosyayı ve içinde bulundurduğu sütunları detaylıca inceleyip anlamak için zaman ayırın. Sorulara geçmeden önce elimizde var olan veriyi anlamak oldukça önemlidir !"
      ]
    },
    {
      "cell_type": "code",
      "execution_count": 3,
      "metadata": {
        "collapsed": true,
        "id": "LptgIt_SO1xb"
      },
      "outputs": [],
      "source": [
        "import pandas as pd"
      ]
    },
    {
      "cell_type": "code",
      "execution_count": 4,
      "metadata": {
        "collapsed": true,
        "id": "bIlBhzbGO1xd"
      },
      "outputs": [],
      "source": [
        "df = pd.read_csv(\"hotel_booking_data.csv\")"
      ]
    },
    {
      "cell_type": "code",
      "source": [],
      "metadata": {
        "id": "xGIrWMt1fuH2"
      },
      "execution_count": null,
      "outputs": []
    },
    {
      "cell_type": "code",
      "execution_count": null,
      "metadata": {
        "colab": {
          "base_uri": "https://localhost:8080/",
          "height": 490
        },
        "id": "Zh7ARk3NO1xd",
        "outputId": "cbf0c5ce-87ca-4b0a-ccae-99fd69e5e57f"
      },
      "outputs": [
        {
          "output_type": "execute_result",
          "data": {
            "text/plain": [
              "          hotel  is_canceled  lead_time  arrival_date_year arrival_date_month  \\\n",
              "0  Resort Hotel            0        342               2015               July   \n",
              "1  Resort Hotel            0        737               2015               July   \n",
              "2  Resort Hotel            0          7               2015               July   \n",
              "3  Resort Hotel            0         13               2015               July   \n",
              "4  Resort Hotel            0         14               2015               July   \n",
              "\n",
              "   arrival_date_week_number  arrival_date_day_of_month  \\\n",
              "0                        27                          1   \n",
              "1                        27                          1   \n",
              "2                        27                          1   \n",
              "3                        27                          1   \n",
              "4                        27                          1   \n",
              "\n",
              "   stays_in_weekend_nights  stays_in_week_nights  adults  ...  customer_type  \\\n",
              "0                        0                     0       2  ...      Transient   \n",
              "1                        0                     0       2  ...      Transient   \n",
              "2                        0                     1       1  ...      Transient   \n",
              "3                        0                     1       1  ...      Transient   \n",
              "4                        0                     2       2  ...      Transient   \n",
              "\n",
              "    adr required_car_parking_spaces total_of_special_requests  \\\n",
              "0   0.0                           0                         0   \n",
              "1   0.0                           0                         0   \n",
              "2  75.0                           0                         0   \n",
              "3  75.0                           0                         0   \n",
              "4  98.0                           0                         1   \n",
              "\n",
              "  reservation_status reservation_status_date            name  \\\n",
              "0          Check-Out              2015-07-01   Ernest Barnes   \n",
              "1          Check-Out              2015-07-01    Andrea Baker   \n",
              "2          Check-Out              2015-07-02  Rebecca Parker   \n",
              "3          Check-Out              2015-07-02    Laura Murray   \n",
              "4          Check-Out              2015-07-03     Linda Hines   \n",
              "\n",
              "                         email  phone-number       credit_card  \n",
              "0  Ernest.Barnes31@outlook.com  669-792-1661  ************4322  \n",
              "1       Andrea_Baker94@aol.com  858-637-6955  ************9157  \n",
              "2   Rebecca_Parker@comcast.net  652-885-2745  ************3734  \n",
              "3            Laura_M@gmail.com  364-656-8427  ************5677  \n",
              "4           LHines@verizon.com  713-226-5883  ************5498  \n",
              "\n",
              "[5 rows x 36 columns]"
            ],
            "text/html": [
              "\n",
              "  <div id=\"df-68ff4a33-fa63-4a36-b8e8-429965725255\">\n",
              "    <div class=\"colab-df-container\">\n",
              "      <div>\n",
              "<style scoped>\n",
              "    .dataframe tbody tr th:only-of-type {\n",
              "        vertical-align: middle;\n",
              "    }\n",
              "\n",
              "    .dataframe tbody tr th {\n",
              "        vertical-align: top;\n",
              "    }\n",
              "\n",
              "    .dataframe thead th {\n",
              "        text-align: right;\n",
              "    }\n",
              "</style>\n",
              "<table border=\"1\" class=\"dataframe\">\n",
              "  <thead>\n",
              "    <tr style=\"text-align: right;\">\n",
              "      <th></th>\n",
              "      <th>hotel</th>\n",
              "      <th>is_canceled</th>\n",
              "      <th>lead_time</th>\n",
              "      <th>arrival_date_year</th>\n",
              "      <th>arrival_date_month</th>\n",
              "      <th>arrival_date_week_number</th>\n",
              "      <th>arrival_date_day_of_month</th>\n",
              "      <th>stays_in_weekend_nights</th>\n",
              "      <th>stays_in_week_nights</th>\n",
              "      <th>adults</th>\n",
              "      <th>...</th>\n",
              "      <th>customer_type</th>\n",
              "      <th>adr</th>\n",
              "      <th>required_car_parking_spaces</th>\n",
              "      <th>total_of_special_requests</th>\n",
              "      <th>reservation_status</th>\n",
              "      <th>reservation_status_date</th>\n",
              "      <th>name</th>\n",
              "      <th>email</th>\n",
              "      <th>phone-number</th>\n",
              "      <th>credit_card</th>\n",
              "    </tr>\n",
              "  </thead>\n",
              "  <tbody>\n",
              "    <tr>\n",
              "      <th>0</th>\n",
              "      <td>Resort Hotel</td>\n",
              "      <td>0</td>\n",
              "      <td>342</td>\n",
              "      <td>2015</td>\n",
              "      <td>July</td>\n",
              "      <td>27</td>\n",
              "      <td>1</td>\n",
              "      <td>0</td>\n",
              "      <td>0</td>\n",
              "      <td>2</td>\n",
              "      <td>...</td>\n",
              "      <td>Transient</td>\n",
              "      <td>0.0</td>\n",
              "      <td>0</td>\n",
              "      <td>0</td>\n",
              "      <td>Check-Out</td>\n",
              "      <td>2015-07-01</td>\n",
              "      <td>Ernest Barnes</td>\n",
              "      <td>Ernest.Barnes31@outlook.com</td>\n",
              "      <td>669-792-1661</td>\n",
              "      <td>************4322</td>\n",
              "    </tr>\n",
              "    <tr>\n",
              "      <th>1</th>\n",
              "      <td>Resort Hotel</td>\n",
              "      <td>0</td>\n",
              "      <td>737</td>\n",
              "      <td>2015</td>\n",
              "      <td>July</td>\n",
              "      <td>27</td>\n",
              "      <td>1</td>\n",
              "      <td>0</td>\n",
              "      <td>0</td>\n",
              "      <td>2</td>\n",
              "      <td>...</td>\n",
              "      <td>Transient</td>\n",
              "      <td>0.0</td>\n",
              "      <td>0</td>\n",
              "      <td>0</td>\n",
              "      <td>Check-Out</td>\n",
              "      <td>2015-07-01</td>\n",
              "      <td>Andrea Baker</td>\n",
              "      <td>Andrea_Baker94@aol.com</td>\n",
              "      <td>858-637-6955</td>\n",
              "      <td>************9157</td>\n",
              "    </tr>\n",
              "    <tr>\n",
              "      <th>2</th>\n",
              "      <td>Resort Hotel</td>\n",
              "      <td>0</td>\n",
              "      <td>7</td>\n",
              "      <td>2015</td>\n",
              "      <td>July</td>\n",
              "      <td>27</td>\n",
              "      <td>1</td>\n",
              "      <td>0</td>\n",
              "      <td>1</td>\n",
              "      <td>1</td>\n",
              "      <td>...</td>\n",
              "      <td>Transient</td>\n",
              "      <td>75.0</td>\n",
              "      <td>0</td>\n",
              "      <td>0</td>\n",
              "      <td>Check-Out</td>\n",
              "      <td>2015-07-02</td>\n",
              "      <td>Rebecca Parker</td>\n",
              "      <td>Rebecca_Parker@comcast.net</td>\n",
              "      <td>652-885-2745</td>\n",
              "      <td>************3734</td>\n",
              "    </tr>\n",
              "    <tr>\n",
              "      <th>3</th>\n",
              "      <td>Resort Hotel</td>\n",
              "      <td>0</td>\n",
              "      <td>13</td>\n",
              "      <td>2015</td>\n",
              "      <td>July</td>\n",
              "      <td>27</td>\n",
              "      <td>1</td>\n",
              "      <td>0</td>\n",
              "      <td>1</td>\n",
              "      <td>1</td>\n",
              "      <td>...</td>\n",
              "      <td>Transient</td>\n",
              "      <td>75.0</td>\n",
              "      <td>0</td>\n",
              "      <td>0</td>\n",
              "      <td>Check-Out</td>\n",
              "      <td>2015-07-02</td>\n",
              "      <td>Laura Murray</td>\n",
              "      <td>Laura_M@gmail.com</td>\n",
              "      <td>364-656-8427</td>\n",
              "      <td>************5677</td>\n",
              "    </tr>\n",
              "    <tr>\n",
              "      <th>4</th>\n",
              "      <td>Resort Hotel</td>\n",
              "      <td>0</td>\n",
              "      <td>14</td>\n",
              "      <td>2015</td>\n",
              "      <td>July</td>\n",
              "      <td>27</td>\n",
              "      <td>1</td>\n",
              "      <td>0</td>\n",
              "      <td>2</td>\n",
              "      <td>2</td>\n",
              "      <td>...</td>\n",
              "      <td>Transient</td>\n",
              "      <td>98.0</td>\n",
              "      <td>0</td>\n",
              "      <td>1</td>\n",
              "      <td>Check-Out</td>\n",
              "      <td>2015-07-03</td>\n",
              "      <td>Linda Hines</td>\n",
              "      <td>LHines@verizon.com</td>\n",
              "      <td>713-226-5883</td>\n",
              "      <td>************5498</td>\n",
              "    </tr>\n",
              "  </tbody>\n",
              "</table>\n",
              "<p>5 rows × 36 columns</p>\n",
              "</div>\n",
              "      <button class=\"colab-df-convert\" onclick=\"convertToInteractive('df-68ff4a33-fa63-4a36-b8e8-429965725255')\"\n",
              "              title=\"Convert this dataframe to an interactive table.\"\n",
              "              style=\"display:none;\">\n",
              "        \n",
              "  <svg xmlns=\"http://www.w3.org/2000/svg\" height=\"24px\"viewBox=\"0 0 24 24\"\n",
              "       width=\"24px\">\n",
              "    <path d=\"M0 0h24v24H0V0z\" fill=\"none\"/>\n",
              "    <path d=\"M18.56 5.44l.94 2.06.94-2.06 2.06-.94-2.06-.94-.94-2.06-.94 2.06-2.06.94zm-11 1L8.5 8.5l.94-2.06 2.06-.94-2.06-.94L8.5 2.5l-.94 2.06-2.06.94zm10 10l.94 2.06.94-2.06 2.06-.94-2.06-.94-.94-2.06-.94 2.06-2.06.94z\"/><path d=\"M17.41 7.96l-1.37-1.37c-.4-.4-.92-.59-1.43-.59-.52 0-1.04.2-1.43.59L10.3 9.45l-7.72 7.72c-.78.78-.78 2.05 0 2.83L4 21.41c.39.39.9.59 1.41.59.51 0 1.02-.2 1.41-.59l7.78-7.78 2.81-2.81c.8-.78.8-2.07 0-2.86zM5.41 20L4 18.59l7.72-7.72 1.47 1.35L5.41 20z\"/>\n",
              "  </svg>\n",
              "      </button>\n",
              "      \n",
              "  <style>\n",
              "    .colab-df-container {\n",
              "      display:flex;\n",
              "      flex-wrap:wrap;\n",
              "      gap: 12px;\n",
              "    }\n",
              "\n",
              "    .colab-df-convert {\n",
              "      background-color: #E8F0FE;\n",
              "      border: none;\n",
              "      border-radius: 50%;\n",
              "      cursor: pointer;\n",
              "      display: none;\n",
              "      fill: #1967D2;\n",
              "      height: 32px;\n",
              "      padding: 0 0 0 0;\n",
              "      width: 32px;\n",
              "    }\n",
              "\n",
              "    .colab-df-convert:hover {\n",
              "      background-color: #E2EBFA;\n",
              "      box-shadow: 0px 1px 2px rgba(60, 64, 67, 0.3), 0px 1px 3px 1px rgba(60, 64, 67, 0.15);\n",
              "      fill: #174EA6;\n",
              "    }\n",
              "\n",
              "    [theme=dark] .colab-df-convert {\n",
              "      background-color: #3B4455;\n",
              "      fill: #D2E3FC;\n",
              "    }\n",
              "\n",
              "    [theme=dark] .colab-df-convert:hover {\n",
              "      background-color: #434B5C;\n",
              "      box-shadow: 0px 1px 3px 1px rgba(0, 0, 0, 0.15);\n",
              "      filter: drop-shadow(0px 1px 2px rgba(0, 0, 0, 0.3));\n",
              "      fill: #FFFFFF;\n",
              "    }\n",
              "  </style>\n",
              "\n",
              "      <script>\n",
              "        const buttonEl =\n",
              "          document.querySelector('#df-68ff4a33-fa63-4a36-b8e8-429965725255 button.colab-df-convert');\n",
              "        buttonEl.style.display =\n",
              "          google.colab.kernel.accessAllowed ? 'block' : 'none';\n",
              "\n",
              "        async function convertToInteractive(key) {\n",
              "          const element = document.querySelector('#df-68ff4a33-fa63-4a36-b8e8-429965725255');\n",
              "          const dataTable =\n",
              "            await google.colab.kernel.invokeFunction('convertToInteractive',\n",
              "                                                     [key], {});\n",
              "          if (!dataTable) return;\n",
              "\n",
              "          const docLinkHtml = 'Like what you see? Visit the ' +\n",
              "            '<a target=\"_blank\" href=https://colab.research.google.com/notebooks/data_table.ipynb>data table notebook</a>'\n",
              "            + ' to learn more about interactive tables.';\n",
              "          element.innerHTML = '';\n",
              "          dataTable['output_type'] = 'display_data';\n",
              "          await google.colab.output.renderOutput(dataTable, element);\n",
              "          const docLink = document.createElement('div');\n",
              "          docLink.innerHTML = docLinkHtml;\n",
              "          element.appendChild(docLink);\n",
              "        }\n",
              "      </script>\n",
              "    </div>\n",
              "  </div>\n",
              "  "
            ]
          },
          "metadata": {},
          "execution_count": 3
        }
      ],
      "source": [
        "df.head()"
      ]
    },
    {
      "cell_type": "markdown",
      "metadata": {
        "id": "GpZFKutKO1xe"
      },
      "source": [
        "---\n",
        "**TASK: Kaç satır verimiz bulunuyor ?**"
      ]
    },
    {
      "cell_type": "code",
      "execution_count": null,
      "metadata": {
        "collapsed": true,
        "colab": {
          "base_uri": "https://localhost:8080/"
        },
        "id": "viYKwBphO1xf",
        "outputId": "f7a023c6-d015-4a21-a986-48aed3cd58b9"
      },
      "outputs": [
        {
          "output_type": "execute_result",
          "data": {
            "text/plain": [
              "119390"
            ]
          },
          "metadata": {},
          "execution_count": 5
        }
      ],
      "source": [
        "df.shape[0]"
      ]
    },
    {
      "cell_type": "code",
      "execution_count": null,
      "metadata": {
        "id": "kb9OdgX-O1xf",
        "outputId": "b89c33f7-5372-4f39-8395-2956c345664f"
      },
      "outputs": [
        {
          "data": {
            "text/plain": [
              "119390"
            ]
          },
          "execution_count": 12,
          "metadata": {},
          "output_type": "execute_result"
        }
      ],
      "source": [
        "# BURAYA KOD YAZMA !"
      ]
    },
    {
      "cell_type": "markdown",
      "metadata": {
        "id": "-rPOAB9gO1xg"
      },
      "source": [
        "**TASK: Herhangi bir eksik verimiz mevcut mu ? Eğer mevcutsa, hangi column'da ne kadar nan değer olduğunu bulun.**"
      ]
    },
    {
      "cell_type": "code",
      "execution_count": null,
      "metadata": {
        "collapsed": true,
        "colab": {
          "base_uri": "https://localhost:8080/"
        },
        "id": "_bqCAh_vO1xg",
        "outputId": "037932c2-4f51-4e3c-9b65-f8ee82c8a2b5"
      },
      "outputs": [
        {
          "output_type": "execute_result",
          "data": {
            "text/plain": [
              "hotel                                  0\n",
              "is_canceled                            0\n",
              "lead_time                              0\n",
              "arrival_date_year                      0\n",
              "arrival_date_month                     0\n",
              "arrival_date_week_number               0\n",
              "arrival_date_day_of_month              0\n",
              "stays_in_weekend_nights                0\n",
              "stays_in_week_nights                   0\n",
              "adults                                 0\n",
              "children                               4\n",
              "babies                                 0\n",
              "meal                                   0\n",
              "country                              488\n",
              "market_segment                         0\n",
              "distribution_channel                   0\n",
              "is_repeated_guest                      0\n",
              "previous_cancellations                 0\n",
              "previous_bookings_not_canceled         0\n",
              "reserved_room_type                     0\n",
              "assigned_room_type                     0\n",
              "booking_changes                        0\n",
              "deposit_type                           0\n",
              "agent                              16340\n",
              "company                           112593\n",
              "days_in_waiting_list                   0\n",
              "customer_type                          0\n",
              "adr                                    0\n",
              "required_car_parking_spaces            0\n",
              "total_of_special_requests              0\n",
              "reservation_status                     0\n",
              "reservation_status_date                0\n",
              "name                                   0\n",
              "email                                  0\n",
              "phone-number                           0\n",
              "credit_card                            0\n",
              "dtype: int64"
            ]
          },
          "metadata": {},
          "execution_count": 6
        }
      ],
      "source": [
        "df.isna().sum()"
      ]
    },
    {
      "cell_type": "code",
      "execution_count": null,
      "metadata": {
        "id": "CatO0GsgO1xg",
        "outputId": "6ca272d5-7d85-490e-a88f-23277df7b768"
      },
      "outputs": [
        {
          "data": {
            "text/plain": [
              "hotel                                  0\n",
              "is_canceled                            0\n",
              "lead_time                              0\n",
              "arrival_date_year                      0\n",
              "arrival_date_month                     0\n",
              "arrival_date_week_number               0\n",
              "arrival_date_day_of_month              0\n",
              "stays_in_weekend_nights                0\n",
              "stays_in_week_nights                   0\n",
              "adults                                 0\n",
              "children                               4\n",
              "babies                                 0\n",
              "meal                                   0\n",
              "country                              488\n",
              "market_segment                         0\n",
              "distribution_channel                   0\n",
              "is_repeated_guest                      0\n",
              "previous_cancellations                 0\n",
              "previous_bookings_not_canceled         0\n",
              "reserved_room_type                     0\n",
              "assigned_room_type                     0\n",
              "booking_changes                        0\n",
              "deposit_type                           0\n",
              "agent                              16340\n",
              "company                           112593\n",
              "days_in_waiting_list                   0\n",
              "customer_type                          0\n",
              "adr                                    0\n",
              "required_car_parking_spaces            0\n",
              "total_of_special_requests              0\n",
              "reservation_status                     0\n",
              "reservation_status_date                0\n",
              "name                                   0\n",
              "email                                  0\n",
              "phone-number                           0\n",
              "credit_card                            0\n",
              "dtype: int64"
            ]
          },
          "execution_count": 13,
          "metadata": {},
          "output_type": "execute_result"
        }
      ],
      "source": [
        "# BURAYA KOD YAZMA !"
      ]
    },
    {
      "cell_type": "markdown",
      "metadata": {
        "id": "umv2oWtkO1xg"
      },
      "source": [
        "**TASK: \"company\" column'unu kalıcı olarak düşür.**"
      ]
    },
    {
      "cell_type": "code",
      "execution_count": null,
      "metadata": {
        "collapsed": true,
        "id": "x33r_iTkO1xh"
      },
      "outputs": [],
      "source": [
        "df.drop('company',axis=1,inplace=True)"
      ]
    },
    {
      "cell_type": "code",
      "execution_count": null,
      "metadata": {
        "collapsed": true,
        "id": "6LE7cLK-O1xh"
      },
      "outputs": [],
      "source": []
    },
    {
      "cell_type": "markdown",
      "metadata": {
        "id": "ahMA1UTwO1xh"
      },
      "source": [
        "**TASK: Datamızdaki en yaygın 5 ülke kodu nelerdir?**"
      ]
    },
    {
      "cell_type": "code",
      "execution_count": null,
      "metadata": {
        "collapsed": true,
        "colab": {
          "base_uri": "https://localhost:8080/"
        },
        "id": "ZdgThxqqO1xi",
        "outputId": "6071942c-5151-4178-d199-5a844f57aa0b"
      },
      "outputs": [
        {
          "output_type": "execute_result",
          "data": {
            "text/plain": [
              "PRT    48590\n",
              "GBR    12129\n",
              "FRA    10415\n",
              "ESP     8568\n",
              "DEU     7287\n",
              "Name: country, dtype: int64"
            ]
          },
          "metadata": {},
          "execution_count": 14
        }
      ],
      "source": [
        "df['country'].value_counts().head(5)"
      ]
    },
    {
      "cell_type": "code",
      "execution_count": null,
      "metadata": {
        "scrolled": true,
        "id": "eq1zhTeIO1xi",
        "outputId": "b1891e90-e633-4952-f494-eeb4b888c32d"
      },
      "outputs": [
        {
          "data": {
            "text/plain": [
              "PRT    48590\n",
              "GBR    12129\n",
              "FRA    10415\n",
              "ESP     8568\n",
              "DEU     7287\n",
              "Name: country, dtype: int64"
            ]
          },
          "execution_count": 45,
          "metadata": {},
          "output_type": "execute_result"
        }
      ],
      "source": []
    },
    {
      "cell_type": "markdown",
      "metadata": {
        "id": "Eu9eg7CEO1xi"
      },
      "source": [
        "**TASK: En yüksek ADR'yi (günlük ortalama ücret) ödeyen kişinin adı nedir? Ödediği ADR'leri ne kadardı?**"
      ]
    },
    {
      "cell_type": "code",
      "execution_count": null,
      "metadata": {
        "collapsed": true,
        "colab": {
          "base_uri": "https://localhost:8080/"
        },
        "id": "TfsRG0Y9O1xi",
        "outputId": "e88954c8-a8d0-427d-a8df-20925f94c518"
      },
      "outputs": [
        {
          "output_type": "execute_result",
          "data": {
            "text/plain": [
              "48515    Daniel Walter\n",
              "Name: name, dtype: object"
            ]
          },
          "metadata": {},
          "execution_count": 20
        }
      ],
      "source": [
        "a=df[df['adr']==df['adr'].max()]\n",
        "df.loc[df['adr'] == (df['adr'].max()), 'name']"
      ]
    },
    {
      "cell_type": "code",
      "execution_count": null,
      "metadata": {
        "id": "1O42VvvDO1xj",
        "outputId": "b49d5fb1-6cf2-481b-ed79-e2bee677612a"
      },
      "outputs": [
        {
          "data": {
            "text/plain": [
              "adr              5400\n",
              "name    Daniel Walter\n",
              "Name: 48515, dtype: object"
            ]
          },
          "execution_count": 47,
          "metadata": {},
          "output_type": "execute_result"
        }
      ],
      "source": []
    },
    {
      "cell_type": "markdown",
      "metadata": {
        "id": "KyuERDZKO1xj"
      },
      "source": [
        "**TASK: ADR, bir kişinin otelde kalışının günlük ortalama ücretidir. Datamızdaki tüm otel konaklamalarında ortalama ADR nedir?**"
      ]
    },
    {
      "cell_type": "code",
      "execution_count": null,
      "metadata": {
        "collapsed": true,
        "colab": {
          "base_uri": "https://localhost:8080/"
        },
        "id": "srbx5OsMO1xj",
        "outputId": "78c315d1-5462-4ec9-8661-d67c82ff1d25"
      },
      "outputs": [
        {
          "output_type": "execute_result",
          "data": {
            "text/plain": [
              "101.83112153446686"
            ]
          },
          "metadata": {},
          "execution_count": 21
        }
      ],
      "source": [
        "df['adr'].mean()"
      ]
    },
    {
      "cell_type": "code",
      "execution_count": null,
      "metadata": {
        "id": "CBmxZfwUO1xj",
        "outputId": "e7a5ce24-3f66-425e-e98c-cdb7264d8c28"
      },
      "outputs": [
        {
          "data": {
            "text/plain": [
              "101.83"
            ]
          },
          "execution_count": 50,
          "metadata": {},
          "output_type": "execute_result"
        }
      ],
      "source": []
    },
    {
      "cell_type": "markdown",
      "metadata": {
        "id": "aVco5b-hO1xk"
      },
      "source": [
        "**TASK: Datamızda bir konaklama için ortalama gece sayısı nedir? Bu sayıyı 2 ondalık basamağa yuvarlayabilirsiniz.**"
      ]
    },
    {
      "cell_type": "code",
      "execution_count": 16,
      "metadata": {
        "collapsed": true,
        "id": "0EefYJjIO1xk",
        "colab": {
          "base_uri": "https://localhost:8080/"
        },
        "outputId": "53af816a-97e8-4922-e390-e267d853b3f5"
      },
      "outputs": [
        {
          "output_type": "execute_result",
          "data": {
            "text/plain": [
              "3.43"
            ]
          },
          "metadata": {},
          "execution_count": 16
        }
      ],
      "source": [
        "df['total_stays'] = df['stays_in_week_nights'] + df['stays_in_weekend_nights']\n",
        "round(df['total_stays'].mean(), 2)"
      ]
    },
    {
      "cell_type": "code",
      "execution_count": null,
      "metadata": {
        "id": "qDkK5QT5O1xk",
        "outputId": "750a0825-679f-4eb2-8f61-0eefeea0e781"
      },
      "outputs": [
        {
          "data": {
            "text/plain": [
              "3.43"
            ]
          },
          "execution_count": 44,
          "metadata": {},
          "output_type": "execute_result"
        }
      ],
      "source": []
    },
    {
      "cell_type": "markdown",
      "metadata": {
        "id": "_Wjah3KQO1xk"
      },
      "source": [
        "**TASK: Datamızdaki bir konaklama için ortalama toplam maliyet nedir? (Ortalama günlük maliyet değil, * toplam * konaklama maliyeti) (ADR, Week day ve Week night konaklamaları kullanarak toplam maliyetinizi kendiniz hesaplamanız gerekecek). Bulunan sayıyı 2 ondalık basamağa yuvarlamaktan çekinmeyin.**"
      ]
    },
    {
      "cell_type": "code",
      "execution_count": 17,
      "metadata": {
        "collapsed": true,
        "id": "5bBrUl1wO1xk",
        "colab": {
          "base_uri": "https://localhost:8080/"
        },
        "outputId": "a8b13eea-caf6-4fe9-a919-232804d43e9e"
      },
      "outputs": [
        {
          "output_type": "execute_result",
          "data": {
            "text/plain": [
              "357.85"
            ]
          },
          "metadata": {},
          "execution_count": 17
        }
      ],
      "source": [
        "df['total_nights'] = df['stays_in_week_nights'] + df['stays_in_weekend_nights']\n",
        "df['total_cost'] = df['total_nights'] * df['adr']\n",
        "round(df['total_cost'].mean(), 2)"
      ]
    },
    {
      "cell_type": "code",
      "execution_count": null,
      "metadata": {
        "id": "z_sfoYCyO1xl",
        "outputId": "2ca76c3b-30a1-487a-9566-35bc182a3a38"
      },
      "outputs": [
        {
          "data": {
            "text/plain": [
              "357.85"
            ]
          },
          "execution_count": 43,
          "metadata": {},
          "output_type": "execute_result"
        }
      ],
      "source": []
    },
    {
      "cell_type": "markdown",
      "metadata": {
        "id": "lx8N7xOoO1xl"
      },
      "source": [
        "**TASK: Tam olarak 5 \"Özel İstek\" yapan kişilerin adları ve e-postaları nelerdir?**"
      ]
    },
    {
      "cell_type": "code",
      "execution_count": null,
      "metadata": {
        "collapsed": true,
        "colab": {
          "base_uri": "https://localhost:8080/",
          "height": 1000
        },
        "id": "I8ui45IgO1xl",
        "outputId": "3be83351-c95b-4317-b0e7-648d97635b4e"
      },
      "outputs": [
        {
          "output_type": "execute_result",
          "data": {
            "text/plain": [
              "                          name                          email\n",
              "7860             Amanda Harper           Amanda.H66@yahoo.com\n",
              "11125            Laura Sanders      Sanders_Laura@hotmail.com\n",
              "14596              Tommy Ortiz            Tommy_O@hotmail.com\n",
              "14921           Gilbert Miller         Miller.Gilbert@aol.com\n",
              "14922           Timothy Torres         TTorres@protonmail.com\n",
              "24630          Jennifer Weaver             Jennifer_W@aol.com\n",
              "27288           Crystal Horton             Crystal.H@mail.com\n",
              "27477           Brittney Burke       Burke_Brittney16@att.com\n",
              "29906          Cynthia Cabrera    Cabrera.Cynthia@xfinity.com\n",
              "29949              Sarah Floyd              Sarah_F@gmail.com\n",
              "32267           Michelle Villa         Michelle.Villa@aol.com\n",
              "39027           Nichole Hebert       Hebert.Nichole@gmail.com\n",
              "39129         Lindsey Mckenzie       Lindsey.Mckenzie@att.com\n",
              "39525           Ashley Edwards       Edwards.Ashley@yahoo.com\n",
              "70114       Christopher Torres   Torres.Christopher@gmail.com\n",
              "78819   Mrs. Tara Sullivan DVM           Mrs..DVM@xfinity.com\n",
              "78820           Michaela Brown          MichaelaBrown@att.com\n",
              "78822        Kurt Maldonado MD              KMD15@xfinity.com\n",
              "97072         Jason Richardson               Jason.R@zoho.com\n",
              "97099             Terri Hurley            THurley@xfinity.com\n",
              "97261        Mrs. Caitlin Webb             Mrs._W@comcast.net\n",
              "98410             Holly Arroyo          Arroyo_Holly@mail.com\n",
              "98674          Denise Campbell             Denise_C@gmail.com\n",
              "99887            Michael Smith            Michael.S42@aol.com\n",
              "99888       Dr. Trevor Sellers                  Dr._S@aol.com\n",
              "101569            Kayla Murphy         Kayla.Murphy@yahoo.com\n",
              "102061         Taylor Martinez    Taylor.Martinez@hotmail.com\n",
              "109511          Charles Wilson       Charles_Wilson@yahoo.com\n",
              "109590           Tyler Allison         Tyler.A@protonmail.com\n",
              "110082          Matthew Bailey         Matthew_Bailey@aol.com\n",
              "110083       Charlotte Acevedo        Charlotte_A@verizon.com\n",
              "111909         Darrell Brennan  Brennan_Darrell51@hotmail.com\n",
              "111911          Melinda Jensen         MelindaJensen@zoho.com\n",
              "113915            Terry Arnold          Arnold.Terry@zoho.com\n",
              "114770             Mary Nguyen     Nguyen.Mary@protonmail.com\n",
              "114909          Lindsay Cuevas      Lindsay.Cuevas40@mail.com\n",
              "116455       Cynthia Hernandez   CynthiaHernandez@xfinity.com\n",
              "116457          Angela Hawkins             Angela_H@gmail.com\n",
              "118817              Sue Lawson            Sue.L52@comcast.net\n",
              "119161         Alyssa Richards        Alyssa_Richards@aol.com"
            ],
            "text/html": [
              "\n",
              "  <div id=\"df-18e0c4c7-14cf-45f9-bc2e-070d6d034bef\">\n",
              "    <div class=\"colab-df-container\">\n",
              "      <div>\n",
              "<style scoped>\n",
              "    .dataframe tbody tr th:only-of-type {\n",
              "        vertical-align: middle;\n",
              "    }\n",
              "\n",
              "    .dataframe tbody tr th {\n",
              "        vertical-align: top;\n",
              "    }\n",
              "\n",
              "    .dataframe thead th {\n",
              "        text-align: right;\n",
              "    }\n",
              "</style>\n",
              "<table border=\"1\" class=\"dataframe\">\n",
              "  <thead>\n",
              "    <tr style=\"text-align: right;\">\n",
              "      <th></th>\n",
              "      <th>name</th>\n",
              "      <th>email</th>\n",
              "    </tr>\n",
              "  </thead>\n",
              "  <tbody>\n",
              "    <tr>\n",
              "      <th>7860</th>\n",
              "      <td>Amanda Harper</td>\n",
              "      <td>Amanda.H66@yahoo.com</td>\n",
              "    </tr>\n",
              "    <tr>\n",
              "      <th>11125</th>\n",
              "      <td>Laura Sanders</td>\n",
              "      <td>Sanders_Laura@hotmail.com</td>\n",
              "    </tr>\n",
              "    <tr>\n",
              "      <th>14596</th>\n",
              "      <td>Tommy Ortiz</td>\n",
              "      <td>Tommy_O@hotmail.com</td>\n",
              "    </tr>\n",
              "    <tr>\n",
              "      <th>14921</th>\n",
              "      <td>Gilbert Miller</td>\n",
              "      <td>Miller.Gilbert@aol.com</td>\n",
              "    </tr>\n",
              "    <tr>\n",
              "      <th>14922</th>\n",
              "      <td>Timothy Torres</td>\n",
              "      <td>TTorres@protonmail.com</td>\n",
              "    </tr>\n",
              "    <tr>\n",
              "      <th>24630</th>\n",
              "      <td>Jennifer Weaver</td>\n",
              "      <td>Jennifer_W@aol.com</td>\n",
              "    </tr>\n",
              "    <tr>\n",
              "      <th>27288</th>\n",
              "      <td>Crystal Horton</td>\n",
              "      <td>Crystal.H@mail.com</td>\n",
              "    </tr>\n",
              "    <tr>\n",
              "      <th>27477</th>\n",
              "      <td>Brittney Burke</td>\n",
              "      <td>Burke_Brittney16@att.com</td>\n",
              "    </tr>\n",
              "    <tr>\n",
              "      <th>29906</th>\n",
              "      <td>Cynthia Cabrera</td>\n",
              "      <td>Cabrera.Cynthia@xfinity.com</td>\n",
              "    </tr>\n",
              "    <tr>\n",
              "      <th>29949</th>\n",
              "      <td>Sarah Floyd</td>\n",
              "      <td>Sarah_F@gmail.com</td>\n",
              "    </tr>\n",
              "    <tr>\n",
              "      <th>32267</th>\n",
              "      <td>Michelle Villa</td>\n",
              "      <td>Michelle.Villa@aol.com</td>\n",
              "    </tr>\n",
              "    <tr>\n",
              "      <th>39027</th>\n",
              "      <td>Nichole Hebert</td>\n",
              "      <td>Hebert.Nichole@gmail.com</td>\n",
              "    </tr>\n",
              "    <tr>\n",
              "      <th>39129</th>\n",
              "      <td>Lindsey Mckenzie</td>\n",
              "      <td>Lindsey.Mckenzie@att.com</td>\n",
              "    </tr>\n",
              "    <tr>\n",
              "      <th>39525</th>\n",
              "      <td>Ashley Edwards</td>\n",
              "      <td>Edwards.Ashley@yahoo.com</td>\n",
              "    </tr>\n",
              "    <tr>\n",
              "      <th>70114</th>\n",
              "      <td>Christopher Torres</td>\n",
              "      <td>Torres.Christopher@gmail.com</td>\n",
              "    </tr>\n",
              "    <tr>\n",
              "      <th>78819</th>\n",
              "      <td>Mrs. Tara Sullivan DVM</td>\n",
              "      <td>Mrs..DVM@xfinity.com</td>\n",
              "    </tr>\n",
              "    <tr>\n",
              "      <th>78820</th>\n",
              "      <td>Michaela Brown</td>\n",
              "      <td>MichaelaBrown@att.com</td>\n",
              "    </tr>\n",
              "    <tr>\n",
              "      <th>78822</th>\n",
              "      <td>Kurt Maldonado MD</td>\n",
              "      <td>KMD15@xfinity.com</td>\n",
              "    </tr>\n",
              "    <tr>\n",
              "      <th>97072</th>\n",
              "      <td>Jason Richardson</td>\n",
              "      <td>Jason.R@zoho.com</td>\n",
              "    </tr>\n",
              "    <tr>\n",
              "      <th>97099</th>\n",
              "      <td>Terri Hurley</td>\n",
              "      <td>THurley@xfinity.com</td>\n",
              "    </tr>\n",
              "    <tr>\n",
              "      <th>97261</th>\n",
              "      <td>Mrs. Caitlin Webb</td>\n",
              "      <td>Mrs._W@comcast.net</td>\n",
              "    </tr>\n",
              "    <tr>\n",
              "      <th>98410</th>\n",
              "      <td>Holly Arroyo</td>\n",
              "      <td>Arroyo_Holly@mail.com</td>\n",
              "    </tr>\n",
              "    <tr>\n",
              "      <th>98674</th>\n",
              "      <td>Denise Campbell</td>\n",
              "      <td>Denise_C@gmail.com</td>\n",
              "    </tr>\n",
              "    <tr>\n",
              "      <th>99887</th>\n",
              "      <td>Michael Smith</td>\n",
              "      <td>Michael.S42@aol.com</td>\n",
              "    </tr>\n",
              "    <tr>\n",
              "      <th>99888</th>\n",
              "      <td>Dr. Trevor Sellers</td>\n",
              "      <td>Dr._S@aol.com</td>\n",
              "    </tr>\n",
              "    <tr>\n",
              "      <th>101569</th>\n",
              "      <td>Kayla Murphy</td>\n",
              "      <td>Kayla.Murphy@yahoo.com</td>\n",
              "    </tr>\n",
              "    <tr>\n",
              "      <th>102061</th>\n",
              "      <td>Taylor Martinez</td>\n",
              "      <td>Taylor.Martinez@hotmail.com</td>\n",
              "    </tr>\n",
              "    <tr>\n",
              "      <th>109511</th>\n",
              "      <td>Charles Wilson</td>\n",
              "      <td>Charles_Wilson@yahoo.com</td>\n",
              "    </tr>\n",
              "    <tr>\n",
              "      <th>109590</th>\n",
              "      <td>Tyler Allison</td>\n",
              "      <td>Tyler.A@protonmail.com</td>\n",
              "    </tr>\n",
              "    <tr>\n",
              "      <th>110082</th>\n",
              "      <td>Matthew Bailey</td>\n",
              "      <td>Matthew_Bailey@aol.com</td>\n",
              "    </tr>\n",
              "    <tr>\n",
              "      <th>110083</th>\n",
              "      <td>Charlotte Acevedo</td>\n",
              "      <td>Charlotte_A@verizon.com</td>\n",
              "    </tr>\n",
              "    <tr>\n",
              "      <th>111909</th>\n",
              "      <td>Darrell Brennan</td>\n",
              "      <td>Brennan_Darrell51@hotmail.com</td>\n",
              "    </tr>\n",
              "    <tr>\n",
              "      <th>111911</th>\n",
              "      <td>Melinda Jensen</td>\n",
              "      <td>MelindaJensen@zoho.com</td>\n",
              "    </tr>\n",
              "    <tr>\n",
              "      <th>113915</th>\n",
              "      <td>Terry Arnold</td>\n",
              "      <td>Arnold.Terry@zoho.com</td>\n",
              "    </tr>\n",
              "    <tr>\n",
              "      <th>114770</th>\n",
              "      <td>Mary Nguyen</td>\n",
              "      <td>Nguyen.Mary@protonmail.com</td>\n",
              "    </tr>\n",
              "    <tr>\n",
              "      <th>114909</th>\n",
              "      <td>Lindsay Cuevas</td>\n",
              "      <td>Lindsay.Cuevas40@mail.com</td>\n",
              "    </tr>\n",
              "    <tr>\n",
              "      <th>116455</th>\n",
              "      <td>Cynthia Hernandez</td>\n",
              "      <td>CynthiaHernandez@xfinity.com</td>\n",
              "    </tr>\n",
              "    <tr>\n",
              "      <th>116457</th>\n",
              "      <td>Angela Hawkins</td>\n",
              "      <td>Angela_H@gmail.com</td>\n",
              "    </tr>\n",
              "    <tr>\n",
              "      <th>118817</th>\n",
              "      <td>Sue Lawson</td>\n",
              "      <td>Sue.L52@comcast.net</td>\n",
              "    </tr>\n",
              "    <tr>\n",
              "      <th>119161</th>\n",
              "      <td>Alyssa Richards</td>\n",
              "      <td>Alyssa_Richards@aol.com</td>\n",
              "    </tr>\n",
              "  </tbody>\n",
              "</table>\n",
              "</div>\n",
              "      <button class=\"colab-df-convert\" onclick=\"convertToInteractive('df-18e0c4c7-14cf-45f9-bc2e-070d6d034bef')\"\n",
              "              title=\"Convert this dataframe to an interactive table.\"\n",
              "              style=\"display:none;\">\n",
              "        \n",
              "  <svg xmlns=\"http://www.w3.org/2000/svg\" height=\"24px\"viewBox=\"0 0 24 24\"\n",
              "       width=\"24px\">\n",
              "    <path d=\"M0 0h24v24H0V0z\" fill=\"none\"/>\n",
              "    <path d=\"M18.56 5.44l.94 2.06.94-2.06 2.06-.94-2.06-.94-.94-2.06-.94 2.06-2.06.94zm-11 1L8.5 8.5l.94-2.06 2.06-.94-2.06-.94L8.5 2.5l-.94 2.06-2.06.94zm10 10l.94 2.06.94-2.06 2.06-.94-2.06-.94-.94-2.06-.94 2.06-2.06.94z\"/><path d=\"M17.41 7.96l-1.37-1.37c-.4-.4-.92-.59-1.43-.59-.52 0-1.04.2-1.43.59L10.3 9.45l-7.72 7.72c-.78.78-.78 2.05 0 2.83L4 21.41c.39.39.9.59 1.41.59.51 0 1.02-.2 1.41-.59l7.78-7.78 2.81-2.81c.8-.78.8-2.07 0-2.86zM5.41 20L4 18.59l7.72-7.72 1.47 1.35L5.41 20z\"/>\n",
              "  </svg>\n",
              "      </button>\n",
              "      \n",
              "  <style>\n",
              "    .colab-df-container {\n",
              "      display:flex;\n",
              "      flex-wrap:wrap;\n",
              "      gap: 12px;\n",
              "    }\n",
              "\n",
              "    .colab-df-convert {\n",
              "      background-color: #E8F0FE;\n",
              "      border: none;\n",
              "      border-radius: 50%;\n",
              "      cursor: pointer;\n",
              "      display: none;\n",
              "      fill: #1967D2;\n",
              "      height: 32px;\n",
              "      padding: 0 0 0 0;\n",
              "      width: 32px;\n",
              "    }\n",
              "\n",
              "    .colab-df-convert:hover {\n",
              "      background-color: #E2EBFA;\n",
              "      box-shadow: 0px 1px 2px rgba(60, 64, 67, 0.3), 0px 1px 3px 1px rgba(60, 64, 67, 0.15);\n",
              "      fill: #174EA6;\n",
              "    }\n",
              "\n",
              "    [theme=dark] .colab-df-convert {\n",
              "      background-color: #3B4455;\n",
              "      fill: #D2E3FC;\n",
              "    }\n",
              "\n",
              "    [theme=dark] .colab-df-convert:hover {\n",
              "      background-color: #434B5C;\n",
              "      box-shadow: 0px 1px 3px 1px rgba(0, 0, 0, 0.15);\n",
              "      filter: drop-shadow(0px 1px 2px rgba(0, 0, 0, 0.3));\n",
              "      fill: #FFFFFF;\n",
              "    }\n",
              "  </style>\n",
              "\n",
              "      <script>\n",
              "        const buttonEl =\n",
              "          document.querySelector('#df-18e0c4c7-14cf-45f9-bc2e-070d6d034bef button.colab-df-convert');\n",
              "        buttonEl.style.display =\n",
              "          google.colab.kernel.accessAllowed ? 'block' : 'none';\n",
              "\n",
              "        async function convertToInteractive(key) {\n",
              "          const element = document.querySelector('#df-18e0c4c7-14cf-45f9-bc2e-070d6d034bef');\n",
              "          const dataTable =\n",
              "            await google.colab.kernel.invokeFunction('convertToInteractive',\n",
              "                                                     [key], {});\n",
              "          if (!dataTable) return;\n",
              "\n",
              "          const docLinkHtml = 'Like what you see? Visit the ' +\n",
              "            '<a target=\"_blank\" href=https://colab.research.google.com/notebooks/data_table.ipynb>data table notebook</a>'\n",
              "            + ' to learn more about interactive tables.';\n",
              "          element.innerHTML = '';\n",
              "          dataTable['output_type'] = 'display_data';\n",
              "          await google.colab.output.renderOutput(dataTable, element);\n",
              "          const docLink = document.createElement('div');\n",
              "          docLink.innerHTML = docLinkHtml;\n",
              "          element.appendChild(docLink);\n",
              "        }\n",
              "      </script>\n",
              "    </div>\n",
              "  </div>\n",
              "  "
            ]
          },
          "metadata": {},
          "execution_count": 28
        }
      ],
      "source": [
        "df.loc[df['total_of_special_requests']==5,['name','email']]"
      ]
    },
    {
      "cell_type": "code",
      "execution_count": null,
      "metadata": {
        "id": "X0Lk-fi_O1xl",
        "outputId": "31c0675d-693e-44d7-e1fd-0dd3b3e94948"
      },
      "outputs": [
        {
          "data": {
            "text/html": [
              "<div>\n",
              "<style scoped>\n",
              "    .dataframe tbody tr th:only-of-type {\n",
              "        vertical-align: middle;\n",
              "    }\n",
              "\n",
              "    .dataframe tbody tr th {\n",
              "        vertical-align: top;\n",
              "    }\n",
              "\n",
              "    .dataframe thead th {\n",
              "        text-align: right;\n",
              "    }\n",
              "</style>\n",
              "<table border=\"1\" class=\"dataframe\">\n",
              "  <thead>\n",
              "    <tr style=\"text-align: right;\">\n",
              "      <th></th>\n",
              "      <th>name</th>\n",
              "      <th>email</th>\n",
              "    </tr>\n",
              "  </thead>\n",
              "  <tbody>\n",
              "    <tr>\n",
              "      <th>7860</th>\n",
              "      <td>Amanda Harper</td>\n",
              "      <td>Amanda.H66@yahoo.com</td>\n",
              "    </tr>\n",
              "    <tr>\n",
              "      <th>11125</th>\n",
              "      <td>Laura Sanders</td>\n",
              "      <td>Sanders_Laura@hotmail.com</td>\n",
              "    </tr>\n",
              "    <tr>\n",
              "      <th>14596</th>\n",
              "      <td>Tommy Ortiz</td>\n",
              "      <td>Tommy_O@hotmail.com</td>\n",
              "    </tr>\n",
              "    <tr>\n",
              "      <th>14921</th>\n",
              "      <td>Gilbert Miller</td>\n",
              "      <td>Miller.Gilbert@aol.com</td>\n",
              "    </tr>\n",
              "    <tr>\n",
              "      <th>14922</th>\n",
              "      <td>Timothy Torres</td>\n",
              "      <td>TTorres@protonmail.com</td>\n",
              "    </tr>\n",
              "    <tr>\n",
              "      <th>24630</th>\n",
              "      <td>Jennifer Weaver</td>\n",
              "      <td>Jennifer_W@aol.com</td>\n",
              "    </tr>\n",
              "    <tr>\n",
              "      <th>27288</th>\n",
              "      <td>Crystal Horton</td>\n",
              "      <td>Crystal.H@mail.com</td>\n",
              "    </tr>\n",
              "    <tr>\n",
              "      <th>27477</th>\n",
              "      <td>Brittney Burke</td>\n",
              "      <td>Burke_Brittney16@att.com</td>\n",
              "    </tr>\n",
              "    <tr>\n",
              "      <th>29906</th>\n",
              "      <td>Cynthia Cabrera</td>\n",
              "      <td>Cabrera.Cynthia@xfinity.com</td>\n",
              "    </tr>\n",
              "    <tr>\n",
              "      <th>29949</th>\n",
              "      <td>Sarah Floyd</td>\n",
              "      <td>Sarah_F@gmail.com</td>\n",
              "    </tr>\n",
              "    <tr>\n",
              "      <th>32267</th>\n",
              "      <td>Michelle Villa</td>\n",
              "      <td>Michelle.Villa@aol.com</td>\n",
              "    </tr>\n",
              "    <tr>\n",
              "      <th>39027</th>\n",
              "      <td>Nichole Hebert</td>\n",
              "      <td>Hebert.Nichole@gmail.com</td>\n",
              "    </tr>\n",
              "    <tr>\n",
              "      <th>39129</th>\n",
              "      <td>Lindsey Mckenzie</td>\n",
              "      <td>Lindsey.Mckenzie@att.com</td>\n",
              "    </tr>\n",
              "    <tr>\n",
              "      <th>39525</th>\n",
              "      <td>Ashley Edwards</td>\n",
              "      <td>Edwards.Ashley@yahoo.com</td>\n",
              "    </tr>\n",
              "    <tr>\n",
              "      <th>70114</th>\n",
              "      <td>Christopher Torres</td>\n",
              "      <td>Torres.Christopher@gmail.com</td>\n",
              "    </tr>\n",
              "    <tr>\n",
              "      <th>78819</th>\n",
              "      <td>Mrs. Tara Sullivan DVM</td>\n",
              "      <td>Mrs..DVM@xfinity.com</td>\n",
              "    </tr>\n",
              "    <tr>\n",
              "      <th>78820</th>\n",
              "      <td>Michaela Brown</td>\n",
              "      <td>MichaelaBrown@att.com</td>\n",
              "    </tr>\n",
              "    <tr>\n",
              "      <th>78822</th>\n",
              "      <td>Kurt Maldonado MD</td>\n",
              "      <td>KMD15@xfinity.com</td>\n",
              "    </tr>\n",
              "    <tr>\n",
              "      <th>97072</th>\n",
              "      <td>Jason Richardson</td>\n",
              "      <td>Jason.R@zoho.com</td>\n",
              "    </tr>\n",
              "    <tr>\n",
              "      <th>97099</th>\n",
              "      <td>Terri Hurley</td>\n",
              "      <td>THurley@xfinity.com</td>\n",
              "    </tr>\n",
              "    <tr>\n",
              "      <th>97261</th>\n",
              "      <td>Mrs. Caitlin Webb</td>\n",
              "      <td>Mrs._W@comcast.net</td>\n",
              "    </tr>\n",
              "    <tr>\n",
              "      <th>98410</th>\n",
              "      <td>Holly Arroyo</td>\n",
              "      <td>Arroyo_Holly@mail.com</td>\n",
              "    </tr>\n",
              "    <tr>\n",
              "      <th>98674</th>\n",
              "      <td>Denise Campbell</td>\n",
              "      <td>Denise_C@gmail.com</td>\n",
              "    </tr>\n",
              "    <tr>\n",
              "      <th>99887</th>\n",
              "      <td>Michael Smith</td>\n",
              "      <td>Michael.S42@aol.com</td>\n",
              "    </tr>\n",
              "    <tr>\n",
              "      <th>99888</th>\n",
              "      <td>Dr. Trevor Sellers</td>\n",
              "      <td>Dr._S@aol.com</td>\n",
              "    </tr>\n",
              "    <tr>\n",
              "      <th>101569</th>\n",
              "      <td>Kayla Murphy</td>\n",
              "      <td>Kayla.Murphy@yahoo.com</td>\n",
              "    </tr>\n",
              "    <tr>\n",
              "      <th>102061</th>\n",
              "      <td>Taylor Martinez</td>\n",
              "      <td>Taylor.Martinez@hotmail.com</td>\n",
              "    </tr>\n",
              "    <tr>\n",
              "      <th>109511</th>\n",
              "      <td>Charles Wilson</td>\n",
              "      <td>Charles_Wilson@yahoo.com</td>\n",
              "    </tr>\n",
              "    <tr>\n",
              "      <th>109590</th>\n",
              "      <td>Tyler Allison</td>\n",
              "      <td>Tyler.A@protonmail.com</td>\n",
              "    </tr>\n",
              "    <tr>\n",
              "      <th>110082</th>\n",
              "      <td>Matthew Bailey</td>\n",
              "      <td>Matthew_Bailey@aol.com</td>\n",
              "    </tr>\n",
              "    <tr>\n",
              "      <th>110083</th>\n",
              "      <td>Charlotte Acevedo</td>\n",
              "      <td>Charlotte_A@verizon.com</td>\n",
              "    </tr>\n",
              "    <tr>\n",
              "      <th>111909</th>\n",
              "      <td>Darrell Brennan</td>\n",
              "      <td>Brennan_Darrell51@hotmail.com</td>\n",
              "    </tr>\n",
              "    <tr>\n",
              "      <th>111911</th>\n",
              "      <td>Melinda Jensen</td>\n",
              "      <td>MelindaJensen@zoho.com</td>\n",
              "    </tr>\n",
              "    <tr>\n",
              "      <th>113915</th>\n",
              "      <td>Terry Arnold</td>\n",
              "      <td>Arnold.Terry@zoho.com</td>\n",
              "    </tr>\n",
              "    <tr>\n",
              "      <th>114770</th>\n",
              "      <td>Mary Nguyen</td>\n",
              "      <td>Nguyen.Mary@protonmail.com</td>\n",
              "    </tr>\n",
              "    <tr>\n",
              "      <th>114909</th>\n",
              "      <td>Lindsay Cuevas</td>\n",
              "      <td>Lindsay.Cuevas40@mail.com</td>\n",
              "    </tr>\n",
              "    <tr>\n",
              "      <th>116455</th>\n",
              "      <td>Cynthia Hernandez</td>\n",
              "      <td>CynthiaHernandez@xfinity.com</td>\n",
              "    </tr>\n",
              "    <tr>\n",
              "      <th>116457</th>\n",
              "      <td>Angela Hawkins</td>\n",
              "      <td>Angela_H@gmail.com</td>\n",
              "    </tr>\n",
              "    <tr>\n",
              "      <th>118817</th>\n",
              "      <td>Sue Lawson</td>\n",
              "      <td>Sue.L52@comcast.net</td>\n",
              "    </tr>\n",
              "    <tr>\n",
              "      <th>119161</th>\n",
              "      <td>Alyssa Richards</td>\n",
              "      <td>Alyssa_Richards@aol.com</td>\n",
              "    </tr>\n",
              "  </tbody>\n",
              "</table>\n",
              "</div>"
            ],
            "text/plain": [
              "                          name                          email\n",
              "7860             Amanda Harper           Amanda.H66@yahoo.com\n",
              "11125            Laura Sanders      Sanders_Laura@hotmail.com\n",
              "14596              Tommy Ortiz            Tommy_O@hotmail.com\n",
              "14921           Gilbert Miller         Miller.Gilbert@aol.com\n",
              "14922           Timothy Torres         TTorres@protonmail.com\n",
              "24630          Jennifer Weaver             Jennifer_W@aol.com\n",
              "27288           Crystal Horton             Crystal.H@mail.com\n",
              "27477           Brittney Burke       Burke_Brittney16@att.com\n",
              "29906          Cynthia Cabrera    Cabrera.Cynthia@xfinity.com\n",
              "29949              Sarah Floyd              Sarah_F@gmail.com\n",
              "32267           Michelle Villa         Michelle.Villa@aol.com\n",
              "39027           Nichole Hebert       Hebert.Nichole@gmail.com\n",
              "39129         Lindsey Mckenzie       Lindsey.Mckenzie@att.com\n",
              "39525           Ashley Edwards       Edwards.Ashley@yahoo.com\n",
              "70114       Christopher Torres   Torres.Christopher@gmail.com\n",
              "78819   Mrs. Tara Sullivan DVM           Mrs..DVM@xfinity.com\n",
              "78820           Michaela Brown          MichaelaBrown@att.com\n",
              "78822        Kurt Maldonado MD              KMD15@xfinity.com\n",
              "97072         Jason Richardson               Jason.R@zoho.com\n",
              "97099             Terri Hurley            THurley@xfinity.com\n",
              "97261        Mrs. Caitlin Webb             Mrs._W@comcast.net\n",
              "98410             Holly Arroyo          Arroyo_Holly@mail.com\n",
              "98674          Denise Campbell             Denise_C@gmail.com\n",
              "99887            Michael Smith            Michael.S42@aol.com\n",
              "99888       Dr. Trevor Sellers                  Dr._S@aol.com\n",
              "101569            Kayla Murphy         Kayla.Murphy@yahoo.com\n",
              "102061         Taylor Martinez    Taylor.Martinez@hotmail.com\n",
              "109511          Charles Wilson       Charles_Wilson@yahoo.com\n",
              "109590           Tyler Allison         Tyler.A@protonmail.com\n",
              "110082          Matthew Bailey         Matthew_Bailey@aol.com\n",
              "110083       Charlotte Acevedo        Charlotte_A@verizon.com\n",
              "111909         Darrell Brennan  Brennan_Darrell51@hotmail.com\n",
              "111911          Melinda Jensen         MelindaJensen@zoho.com\n",
              "113915            Terry Arnold          Arnold.Terry@zoho.com\n",
              "114770             Mary Nguyen     Nguyen.Mary@protonmail.com\n",
              "114909          Lindsay Cuevas      Lindsay.Cuevas40@mail.com\n",
              "116455       Cynthia Hernandez   CynthiaHernandez@xfinity.com\n",
              "116457          Angela Hawkins             Angela_H@gmail.com\n",
              "118817              Sue Lawson            Sue.L52@comcast.net\n",
              "119161         Alyssa Richards        Alyssa_Richards@aol.com"
            ]
          },
          "execution_count": 56,
          "metadata": {},
          "output_type": "execute_result"
        }
      ],
      "source": []
    },
    {
      "cell_type": "markdown",
      "metadata": {
        "id": "yC_ApR8PO1xm"
      },
      "source": [
        "**TASK: Otel konaklamalarının yüzde kaçı \"tekrar misafir\" olarak sınıflandırıldı? (Bunu kişinin adının tekrarıyla değil, is_repeated_guest sütununa bakarak hesaplayın)**"
      ]
    },
    {
      "cell_type": "code",
      "execution_count": null,
      "metadata": {
        "collapsed": true,
        "colab": {
          "base_uri": "https://localhost:8080/"
        },
        "id": "KOPV6_NcO1xm",
        "outputId": "6aa431e8-b630-4afc-cf46-b8257657e61f"
      },
      "outputs": [
        {
          "output_type": "execute_result",
          "data": {
            "text/plain": [
              "3.191222045397437"
            ]
          },
          "metadata": {},
          "execution_count": 35
        }
      ],
      "source": [
        "(df[df['is_repeated_guest'] == 1]['is_repeated_guest'].count())/(df['is_repeated_guest'].count())*100"
      ]
    },
    {
      "cell_type": "code",
      "execution_count": null,
      "metadata": {
        "id": "CBPqHSc-O1xm",
        "outputId": "80df33fd-1a56-4e64-ac58-42eee6ca5bb8"
      },
      "outputs": [
        {
          "data": {
            "text/plain": [
              "3.19"
            ]
          },
          "execution_count": 67,
          "metadata": {},
          "output_type": "execute_result"
        }
      ],
      "source": []
    },
    {
      "cell_type": "markdown",
      "metadata": {
        "id": "aAGJekJ-O1xn"
      },
      "source": [
        "**TASK: Datamızdaki en yaygın 5 soyadı nelerdir? Bonus: Bunu tek bir kod satırında çözebilir misiniz? (3 isimli olan kişilerin soy isimleri 3. isim olarak alınabilir, Örneğin Caroline Conley MD'nin soyadı MD olduğu söylenebilir)**"
      ]
    },
    {
      "cell_type": "code",
      "execution_count": null,
      "metadata": {
        "collapsed": true,
        "colab": {
          "base_uri": "https://localhost:8080/"
        },
        "id": "j2bhkicSO1xn",
        "outputId": "11c432a3-b158-4fb7-d0a6-6c9deacd7e23"
      },
      "outputs": [
        {
          "output_type": "execute_result",
          "data": {
            "text/plain": [
              "Smith       2503\n",
              "Johnson     1990\n",
              "Williams    1618\n",
              "Jones       1434\n",
              "Brown       1423\n",
              "Name: name, dtype: int64"
            ]
          },
          "metadata": {},
          "execution_count": 36
        }
      ],
      "source": [
        "df['name'].str.split().str[-1].value_counts().head(5)"
      ]
    },
    {
      "cell_type": "code",
      "execution_count": null,
      "metadata": {
        "id": "0Lgl4VSKO1xn",
        "outputId": "a6d8a5ab-811c-4800-d1ea-b6d5e7cca592"
      },
      "outputs": [
        {
          "data": {
            "text/plain": [
              "Smith       2510\n",
              "Johnson     1998\n",
              "Williams    1628\n",
              "Jones       1441\n",
              "Brown       1433\n",
              "Name: name, dtype: int64"
            ]
          },
          "execution_count": 70,
          "metadata": {},
          "output_type": "execute_result"
        }
      ],
      "source": []
    },
    {
      "cell_type": "markdown",
      "metadata": {
        "id": "LwdL3FUDO1xn"
      },
      "source": [
        "**TASK: Toplamda en fazla sayıda çocuk ve bebek rezervasyonu yapan kişilerin isimleri nelerdir? (Rezervasyonlarını iptal ettilerse endişelenmeyin, yalnızca rezervasyon sırasında bildirilen kişi sayısını göz önünde bulundurun)**"
      ]
    },
    {
      "cell_type": "code",
      "execution_count": null,
      "metadata": {
        "collapsed": true,
        "colab": {
          "base_uri": "https://localhost:8080/"
        },
        "id": "TWYXhfRlO1xn",
        "outputId": "03214a85-ad2d-481f-96a2-31d4ea3af4dd"
      },
      "outputs": [
        {
          "output_type": "execute_result",
          "data": {
            "text/plain": [
              "328           Jamie Ramirez\n",
              "46619       Nicholas Parker\n",
              "78656         Marc Robinson\n",
              "19718     Mr. Jeffrey Cross\n",
              "107837        Albert French\n",
              "Name: name, dtype: object"
            ]
          },
          "metadata": {},
          "execution_count": 42
        }
      ],
      "source": [
        "df['total_kids']=df['children']+df['babies']\n",
        "df.sort_values('total_kids',ascending=False)['name'].head(5)"
      ]
    },
    {
      "cell_type": "code",
      "execution_count": null,
      "metadata": {
        "id": "M6jXnCPPO1xo",
        "outputId": "93473288-e1e7-4da4-879b-ce328722d37a"
      },
      "outputs": [
        {
          "data": {
            "text/html": [
              "<div>\n",
              "<style scoped>\n",
              "    .dataframe tbody tr th:only-of-type {\n",
              "        vertical-align: middle;\n",
              "    }\n",
              "\n",
              "    .dataframe tbody tr th {\n",
              "        vertical-align: top;\n",
              "    }\n",
              "\n",
              "    .dataframe thead th {\n",
              "        text-align: right;\n",
              "    }\n",
              "</style>\n",
              "<table border=\"1\" class=\"dataframe\">\n",
              "  <thead>\n",
              "    <tr style=\"text-align: right;\">\n",
              "      <th></th>\n",
              "      <th>name</th>\n",
              "      <th>adults</th>\n",
              "      <th>total_kids</th>\n",
              "      <th>babies</th>\n",
              "      <th>children</th>\n",
              "    </tr>\n",
              "  </thead>\n",
              "  <tbody>\n",
              "    <tr>\n",
              "      <th>328</th>\n",
              "      <td>Jamie Ramirez</td>\n",
              "      <td>2</td>\n",
              "      <td>10.0</td>\n",
              "      <td>0</td>\n",
              "      <td>10.0</td>\n",
              "    </tr>\n",
              "    <tr>\n",
              "      <th>46619</th>\n",
              "      <td>Nicholas Parker</td>\n",
              "      <td>2</td>\n",
              "      <td>10.0</td>\n",
              "      <td>10</td>\n",
              "      <td>0.0</td>\n",
              "    </tr>\n",
              "    <tr>\n",
              "      <th>78656</th>\n",
              "      <td>Marc Robinson</td>\n",
              "      <td>1</td>\n",
              "      <td>9.0</td>\n",
              "      <td>9</td>\n",
              "      <td>0.0</td>\n",
              "    </tr>\n",
              "  </tbody>\n",
              "</table>\n",
              "</div>"
            ],
            "text/plain": [
              "                  name  adults  total_kids  babies  children\n",
              "328      Jamie Ramirez       2        10.0       0      10.0\n",
              "46619  Nicholas Parker       2        10.0      10       0.0\n",
              "78656    Marc Robinson       1         9.0       9       0.0"
            ]
          },
          "execution_count": 81,
          "metadata": {},
          "output_type": "execute_result"
        }
      ],
      "source": []
    },
    {
      "cell_type": "markdown",
      "metadata": {
        "id": "XIUt437XO1xo"
      },
      "source": [
        "**TASK: Telefon numaralarındaki en yaygın 3 alan kodu hangileridir? (Alan kodu ilk 3 hanedir)**"
      ]
    },
    {
      "cell_type": "code",
      "execution_count": 6,
      "metadata": {
        "collapsed": true,
        "id": "SmejjiqtO1xo",
        "colab": {
          "base_uri": "https://localhost:8080/"
        },
        "outputId": "e5847adc-f7d3-459e-aef3-e22897606c27"
      },
      "outputs": [
        {
          "output_type": "execute_result",
          "data": {
            "text/plain": [
              "799    168\n",
              "185    167\n",
              "541    166\n",
              "Name: phone-number, dtype: int64"
            ]
          },
          "metadata": {},
          "execution_count": 6
        }
      ],
      "source": [
        "df['phone-number'].str.split(\"-\").str[0].value_counts().head(3)"
      ]
    },
    {
      "cell_type": "code",
      "source": [
        "df['Code']=df['phone-number'].apply(lambda x: str(x)[0:3])\n",
        "df['Code'].value_counts().head(3)"
      ],
      "metadata": {
        "colab": {
          "base_uri": "https://localhost:8080/"
        },
        "id": "7mu-yBROiNK7",
        "outputId": "ad20daed-846d-403d-c294-a580725237df"
      },
      "execution_count": 7,
      "outputs": [
        {
          "output_type": "execute_result",
          "data": {
            "text/plain": [
              "799    168\n",
              "185    167\n",
              "541    166\n",
              "Name: Code, dtype: int64"
            ]
          },
          "metadata": {},
          "execution_count": 7
        }
      ]
    },
    {
      "cell_type": "code",
      "execution_count": null,
      "metadata": {
        "id": "tQME9WGgO1xo",
        "outputId": "d230e746-7f7b-452c-b92e-7a16eeb06de1"
      },
      "outputs": [
        {
          "name": "stdout",
          "output_type": "stream",
          "text": [
            "Code - Total Count\n"
          ]
        },
        {
          "data": {
            "text/plain": [
              "799    168\n",
              "185    167\n",
              "541    166\n",
              "Name: phone-number, dtype: int64"
            ]
          },
          "execution_count": 89,
          "metadata": {},
          "output_type": "execute_result"
        }
      ],
      "source": []
    },
    {
      "cell_type": "markdown",
      "metadata": {
        "id": "XXe4dBzAO1xo"
      },
      "source": [
        "**TASK: Ayın 1'i ile 15'i arasında (1 ve 15 dahil) kaç varış gerçekleşti?**"
      ]
    },
    {
      "cell_type": "code",
      "execution_count": 14,
      "metadata": {
        "collapsed": true,
        "id": "ZEx6nAFxO1xp",
        "colab": {
          "base_uri": "https://localhost:8080/"
        },
        "outputId": "c078377c-0811-4cea-ee83-2e87e31d5a6f"
      },
      "outputs": [
        {
          "output_type": "execute_result",
          "data": {
            "text/plain": [
              "28079"
            ]
          },
          "metadata": {},
          "execution_count": 14
        }
      ],
      "source": [
        "len(df[(df['arrival_date_week_number']>=1) & (df['arrival_date_week_number']<=15)])"
      ]
    },
    {
      "cell_type": "code",
      "execution_count": null,
      "metadata": {
        "id": "Lw4jAuQ_O1xp",
        "outputId": "9a1d4d10-21c3-40e8-be88-a5dd703dd88a"
      },
      "outputs": [
        {
          "data": {
            "text/plain": [
              "58152"
            ]
          },
          "execution_count": 95,
          "metadata": {},
          "output_type": "execute_result"
        }
      ],
      "source": []
    },
    {
      "cell_type": "markdown",
      "metadata": {
        "id": "-rht3DKqO1xp"
      },
      "source": [
        "# TEBRİKLER, Pandas'ın temelleri öğrenilmiş..."
      ]
    }
  ],
  "metadata": {
    "anaconda-cloud": {},
    "kernelspec": {
      "display_name": "Python 3",
      "language": "python",
      "name": "python3"
    },
    "language_info": {
      "codemirror_mode": {
        "name": "ipython",
        "version": 3
      },
      "file_extension": ".py",
      "mimetype": "text/x-python",
      "name": "python",
      "nbconvert_exporter": "python",
      "pygments_lexer": "ipython3",
      "version": "3.7.6"
    },
    "colab": {
      "provenance": []
    }
  },
  "nbformat": 4,
  "nbformat_minor": 0
}